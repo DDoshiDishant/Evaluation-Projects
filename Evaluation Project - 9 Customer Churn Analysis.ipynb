{
 "cells": [
  {
   "cell_type": "markdown",
   "metadata": {},
   "source": [
    "# Telecom customer churn prediction"
   ]
  },
  {
   "cell_type": "markdown",
   "metadata": {},
   "source": [
    "# Objective:-\n",
    "Customer churn is often referred to as customer attrition, or customer defection which is the rate at which the customers are lost. Telecom companies often use customer churn as a key business metrics to predict the number of customers that will leave a telecom service provider. Churn is significant in the telecommunication industry because it directly affects the competitiveness of the service provider.\n",
    "\n",
    "So We have to Predict that model which will focous on Churn customer.means Model will identify which customer will be Churn out.so the  managment will identifies they churn out customer.and according that thye will change the strategy to keep them with company."
   ]
  },
  {
   "cell_type": "markdown",
   "metadata": {},
   "source": [
    "so Its Case Of Recall We Have To Focous On Recall Score,Not Precison Score. \n",
    "\n",
    "Example. we predict 5% as churn and all are churn out so over precison is good. but what about rest of 95% so that we should focous on Recall Score."
   ]
  },
  {
   "cell_type": "code",
   "execution_count": 127,
   "metadata": {},
   "outputs": [],
   "source": [
    "import pandas as pd\n",
    "import numpy as np\n",
    "import matplotlib.pyplot as plt\n",
    "import seaborn as sns\n",
    "import warnings\n",
    "warnings.filterwarnings('ignore')"
   ]
  },
  {
   "cell_type": "code",
   "execution_count": 128,
   "metadata": {},
   "outputs": [
    {
     "data": {
      "text/html": [
       "<div>\n",
       "<style scoped>\n",
       "    .dataframe tbody tr th:only-of-type {\n",
       "        vertical-align: middle;\n",
       "    }\n",
       "\n",
       "    .dataframe tbody tr th {\n",
       "        vertical-align: top;\n",
       "    }\n",
       "\n",
       "    .dataframe thead th {\n",
       "        text-align: right;\n",
       "    }\n",
       "</style>\n",
       "<table border=\"1\" class=\"dataframe\">\n",
       "  <thead>\n",
       "    <tr style=\"text-align: right;\">\n",
       "      <th></th>\n",
       "      <th>customerID</th>\n",
       "      <th>gender</th>\n",
       "      <th>SeniorCitizen</th>\n",
       "      <th>Partner</th>\n",
       "      <th>Dependents</th>\n",
       "      <th>tenure</th>\n",
       "      <th>PhoneService</th>\n",
       "      <th>MultipleLines</th>\n",
       "      <th>InternetService</th>\n",
       "      <th>OnlineSecurity</th>\n",
       "      <th>...</th>\n",
       "      <th>DeviceProtection</th>\n",
       "      <th>TechSupport</th>\n",
       "      <th>StreamingTV</th>\n",
       "      <th>StreamingMovies</th>\n",
       "      <th>Contract</th>\n",
       "      <th>PaperlessBilling</th>\n",
       "      <th>PaymentMethod</th>\n",
       "      <th>MonthlyCharges</th>\n",
       "      <th>TotalCharges</th>\n",
       "      <th>Churn</th>\n",
       "    </tr>\n",
       "  </thead>\n",
       "  <tbody>\n",
       "    <tr>\n",
       "      <th>0</th>\n",
       "      <td>7590-VHVEG</td>\n",
       "      <td>Female</td>\n",
       "      <td>0</td>\n",
       "      <td>Yes</td>\n",
       "      <td>No</td>\n",
       "      <td>1</td>\n",
       "      <td>No</td>\n",
       "      <td>No phone service</td>\n",
       "      <td>DSL</td>\n",
       "      <td>No</td>\n",
       "      <td>...</td>\n",
       "      <td>No</td>\n",
       "      <td>No</td>\n",
       "      <td>No</td>\n",
       "      <td>No</td>\n",
       "      <td>Month-to-month</td>\n",
       "      <td>Yes</td>\n",
       "      <td>Electronic check</td>\n",
       "      <td>29.85</td>\n",
       "      <td>29.85</td>\n",
       "      <td>No</td>\n",
       "    </tr>\n",
       "    <tr>\n",
       "      <th>1</th>\n",
       "      <td>5575-GNVDE</td>\n",
       "      <td>Male</td>\n",
       "      <td>0</td>\n",
       "      <td>No</td>\n",
       "      <td>No</td>\n",
       "      <td>34</td>\n",
       "      <td>Yes</td>\n",
       "      <td>No</td>\n",
       "      <td>DSL</td>\n",
       "      <td>Yes</td>\n",
       "      <td>...</td>\n",
       "      <td>Yes</td>\n",
       "      <td>No</td>\n",
       "      <td>No</td>\n",
       "      <td>No</td>\n",
       "      <td>One year</td>\n",
       "      <td>No</td>\n",
       "      <td>Mailed check</td>\n",
       "      <td>56.95</td>\n",
       "      <td>1889.5</td>\n",
       "      <td>No</td>\n",
       "    </tr>\n",
       "    <tr>\n",
       "      <th>2</th>\n",
       "      <td>3668-QPYBK</td>\n",
       "      <td>Male</td>\n",
       "      <td>0</td>\n",
       "      <td>No</td>\n",
       "      <td>No</td>\n",
       "      <td>2</td>\n",
       "      <td>Yes</td>\n",
       "      <td>No</td>\n",
       "      <td>DSL</td>\n",
       "      <td>Yes</td>\n",
       "      <td>...</td>\n",
       "      <td>No</td>\n",
       "      <td>No</td>\n",
       "      <td>No</td>\n",
       "      <td>No</td>\n",
       "      <td>Month-to-month</td>\n",
       "      <td>Yes</td>\n",
       "      <td>Mailed check</td>\n",
       "      <td>53.85</td>\n",
       "      <td>108.15</td>\n",
       "      <td>Yes</td>\n",
       "    </tr>\n",
       "    <tr>\n",
       "      <th>3</th>\n",
       "      <td>7795-CFOCW</td>\n",
       "      <td>Male</td>\n",
       "      <td>0</td>\n",
       "      <td>No</td>\n",
       "      <td>No</td>\n",
       "      <td>45</td>\n",
       "      <td>No</td>\n",
       "      <td>No phone service</td>\n",
       "      <td>DSL</td>\n",
       "      <td>Yes</td>\n",
       "      <td>...</td>\n",
       "      <td>Yes</td>\n",
       "      <td>Yes</td>\n",
       "      <td>No</td>\n",
       "      <td>No</td>\n",
       "      <td>One year</td>\n",
       "      <td>No</td>\n",
       "      <td>Bank transfer (automatic)</td>\n",
       "      <td>42.30</td>\n",
       "      <td>1840.75</td>\n",
       "      <td>No</td>\n",
       "    </tr>\n",
       "    <tr>\n",
       "      <th>4</th>\n",
       "      <td>9237-HQITU</td>\n",
       "      <td>Female</td>\n",
       "      <td>0</td>\n",
       "      <td>No</td>\n",
       "      <td>No</td>\n",
       "      <td>2</td>\n",
       "      <td>Yes</td>\n",
       "      <td>No</td>\n",
       "      <td>Fiber optic</td>\n",
       "      <td>No</td>\n",
       "      <td>...</td>\n",
       "      <td>No</td>\n",
       "      <td>No</td>\n",
       "      <td>No</td>\n",
       "      <td>No</td>\n",
       "      <td>Month-to-month</td>\n",
       "      <td>Yes</td>\n",
       "      <td>Electronic check</td>\n",
       "      <td>70.70</td>\n",
       "      <td>151.65</td>\n",
       "      <td>Yes</td>\n",
       "    </tr>\n",
       "    <tr>\n",
       "      <th>...</th>\n",
       "      <td>...</td>\n",
       "      <td>...</td>\n",
       "      <td>...</td>\n",
       "      <td>...</td>\n",
       "      <td>...</td>\n",
       "      <td>...</td>\n",
       "      <td>...</td>\n",
       "      <td>...</td>\n",
       "      <td>...</td>\n",
       "      <td>...</td>\n",
       "      <td>...</td>\n",
       "      <td>...</td>\n",
       "      <td>...</td>\n",
       "      <td>...</td>\n",
       "      <td>...</td>\n",
       "      <td>...</td>\n",
       "      <td>...</td>\n",
       "      <td>...</td>\n",
       "      <td>...</td>\n",
       "      <td>...</td>\n",
       "      <td>...</td>\n",
       "    </tr>\n",
       "    <tr>\n",
       "      <th>7038</th>\n",
       "      <td>6840-RESVB</td>\n",
       "      <td>Male</td>\n",
       "      <td>0</td>\n",
       "      <td>Yes</td>\n",
       "      <td>Yes</td>\n",
       "      <td>24</td>\n",
       "      <td>Yes</td>\n",
       "      <td>Yes</td>\n",
       "      <td>DSL</td>\n",
       "      <td>Yes</td>\n",
       "      <td>...</td>\n",
       "      <td>Yes</td>\n",
       "      <td>Yes</td>\n",
       "      <td>Yes</td>\n",
       "      <td>Yes</td>\n",
       "      <td>One year</td>\n",
       "      <td>Yes</td>\n",
       "      <td>Mailed check</td>\n",
       "      <td>84.80</td>\n",
       "      <td>1990.5</td>\n",
       "      <td>No</td>\n",
       "    </tr>\n",
       "    <tr>\n",
       "      <th>7039</th>\n",
       "      <td>2234-XADUH</td>\n",
       "      <td>Female</td>\n",
       "      <td>0</td>\n",
       "      <td>Yes</td>\n",
       "      <td>Yes</td>\n",
       "      <td>72</td>\n",
       "      <td>Yes</td>\n",
       "      <td>Yes</td>\n",
       "      <td>Fiber optic</td>\n",
       "      <td>No</td>\n",
       "      <td>...</td>\n",
       "      <td>Yes</td>\n",
       "      <td>No</td>\n",
       "      <td>Yes</td>\n",
       "      <td>Yes</td>\n",
       "      <td>One year</td>\n",
       "      <td>Yes</td>\n",
       "      <td>Credit card (automatic)</td>\n",
       "      <td>103.20</td>\n",
       "      <td>7362.9</td>\n",
       "      <td>No</td>\n",
       "    </tr>\n",
       "    <tr>\n",
       "      <th>7040</th>\n",
       "      <td>4801-JZAZL</td>\n",
       "      <td>Female</td>\n",
       "      <td>0</td>\n",
       "      <td>Yes</td>\n",
       "      <td>Yes</td>\n",
       "      <td>11</td>\n",
       "      <td>No</td>\n",
       "      <td>No phone service</td>\n",
       "      <td>DSL</td>\n",
       "      <td>Yes</td>\n",
       "      <td>...</td>\n",
       "      <td>No</td>\n",
       "      <td>No</td>\n",
       "      <td>No</td>\n",
       "      <td>No</td>\n",
       "      <td>Month-to-month</td>\n",
       "      <td>Yes</td>\n",
       "      <td>Electronic check</td>\n",
       "      <td>29.60</td>\n",
       "      <td>346.45</td>\n",
       "      <td>No</td>\n",
       "    </tr>\n",
       "    <tr>\n",
       "      <th>7041</th>\n",
       "      <td>8361-LTMKD</td>\n",
       "      <td>Male</td>\n",
       "      <td>1</td>\n",
       "      <td>Yes</td>\n",
       "      <td>No</td>\n",
       "      <td>4</td>\n",
       "      <td>Yes</td>\n",
       "      <td>Yes</td>\n",
       "      <td>Fiber optic</td>\n",
       "      <td>No</td>\n",
       "      <td>...</td>\n",
       "      <td>No</td>\n",
       "      <td>No</td>\n",
       "      <td>No</td>\n",
       "      <td>No</td>\n",
       "      <td>Month-to-month</td>\n",
       "      <td>Yes</td>\n",
       "      <td>Mailed check</td>\n",
       "      <td>74.40</td>\n",
       "      <td>306.6</td>\n",
       "      <td>Yes</td>\n",
       "    </tr>\n",
       "    <tr>\n",
       "      <th>7042</th>\n",
       "      <td>3186-AJIEK</td>\n",
       "      <td>Male</td>\n",
       "      <td>0</td>\n",
       "      <td>No</td>\n",
       "      <td>No</td>\n",
       "      <td>66</td>\n",
       "      <td>Yes</td>\n",
       "      <td>No</td>\n",
       "      <td>Fiber optic</td>\n",
       "      <td>Yes</td>\n",
       "      <td>...</td>\n",
       "      <td>Yes</td>\n",
       "      <td>Yes</td>\n",
       "      <td>Yes</td>\n",
       "      <td>Yes</td>\n",
       "      <td>Two year</td>\n",
       "      <td>Yes</td>\n",
       "      <td>Bank transfer (automatic)</td>\n",
       "      <td>105.65</td>\n",
       "      <td>6844.5</td>\n",
       "      <td>No</td>\n",
       "    </tr>\n",
       "  </tbody>\n",
       "</table>\n",
       "<p>7043 rows × 21 columns</p>\n",
       "</div>"
      ],
      "text/plain": [
       "      customerID  gender  SeniorCitizen Partner Dependents  tenure  \\\n",
       "0     7590-VHVEG  Female              0     Yes         No       1   \n",
       "1     5575-GNVDE    Male              0      No         No      34   \n",
       "2     3668-QPYBK    Male              0      No         No       2   \n",
       "3     7795-CFOCW    Male              0      No         No      45   \n",
       "4     9237-HQITU  Female              0      No         No       2   \n",
       "...          ...     ...            ...     ...        ...     ...   \n",
       "7038  6840-RESVB    Male              0     Yes        Yes      24   \n",
       "7039  2234-XADUH  Female              0     Yes        Yes      72   \n",
       "7040  4801-JZAZL  Female              0     Yes        Yes      11   \n",
       "7041  8361-LTMKD    Male              1     Yes         No       4   \n",
       "7042  3186-AJIEK    Male              0      No         No      66   \n",
       "\n",
       "     PhoneService     MultipleLines InternetService OnlineSecurity  ...  \\\n",
       "0              No  No phone service             DSL             No  ...   \n",
       "1             Yes                No             DSL            Yes  ...   \n",
       "2             Yes                No             DSL            Yes  ...   \n",
       "3              No  No phone service             DSL            Yes  ...   \n",
       "4             Yes                No     Fiber optic             No  ...   \n",
       "...           ...               ...             ...            ...  ...   \n",
       "7038          Yes               Yes             DSL            Yes  ...   \n",
       "7039          Yes               Yes     Fiber optic             No  ...   \n",
       "7040           No  No phone service             DSL            Yes  ...   \n",
       "7041          Yes               Yes     Fiber optic             No  ...   \n",
       "7042          Yes                No     Fiber optic            Yes  ...   \n",
       "\n",
       "     DeviceProtection TechSupport StreamingTV StreamingMovies        Contract  \\\n",
       "0                  No          No          No              No  Month-to-month   \n",
       "1                 Yes          No          No              No        One year   \n",
       "2                  No          No          No              No  Month-to-month   \n",
       "3                 Yes         Yes          No              No        One year   \n",
       "4                  No          No          No              No  Month-to-month   \n",
       "...               ...         ...         ...             ...             ...   \n",
       "7038              Yes         Yes         Yes             Yes        One year   \n",
       "7039              Yes          No         Yes             Yes        One year   \n",
       "7040               No          No          No              No  Month-to-month   \n",
       "7041               No          No          No              No  Month-to-month   \n",
       "7042              Yes         Yes         Yes             Yes        Two year   \n",
       "\n",
       "     PaperlessBilling              PaymentMethod MonthlyCharges  TotalCharges  \\\n",
       "0                 Yes           Electronic check          29.85         29.85   \n",
       "1                  No               Mailed check          56.95        1889.5   \n",
       "2                 Yes               Mailed check          53.85        108.15   \n",
       "3                  No  Bank transfer (automatic)          42.30       1840.75   \n",
       "4                 Yes           Electronic check          70.70        151.65   \n",
       "...               ...                        ...            ...           ...   \n",
       "7038              Yes               Mailed check          84.80        1990.5   \n",
       "7039              Yes    Credit card (automatic)         103.20        7362.9   \n",
       "7040              Yes           Electronic check          29.60        346.45   \n",
       "7041              Yes               Mailed check          74.40         306.6   \n",
       "7042              Yes  Bank transfer (automatic)         105.65        6844.5   \n",
       "\n",
       "     Churn  \n",
       "0       No  \n",
       "1       No  \n",
       "2      Yes  \n",
       "3       No  \n",
       "4      Yes  \n",
       "...    ...  \n",
       "7038    No  \n",
       "7039    No  \n",
       "7040    No  \n",
       "7041   Yes  \n",
       "7042    No  \n",
       "\n",
       "[7043 rows x 21 columns]"
      ]
     },
     "execution_count": 128,
     "metadata": {},
     "output_type": "execute_result"
    }
   ],
   "source": [
    "df=pd.read_csv('Telecom_customer_churn.csv')\n",
    "df"
   ]
  },
  {
   "cell_type": "code",
   "execution_count": 129,
   "metadata": {},
   "outputs": [
    {
     "data": {
      "text/plain": [
       "customerID          0\n",
       "gender              0\n",
       "SeniorCitizen       0\n",
       "Partner             0\n",
       "Dependents          0\n",
       "tenure              0\n",
       "PhoneService        0\n",
       "MultipleLines       0\n",
       "InternetService     0\n",
       "OnlineSecurity      0\n",
       "OnlineBackup        0\n",
       "DeviceProtection    0\n",
       "TechSupport         0\n",
       "StreamingTV         0\n",
       "StreamingMovies     0\n",
       "Contract            0\n",
       "PaperlessBilling    0\n",
       "PaymentMethod       0\n",
       "MonthlyCharges      0\n",
       "TotalCharges        0\n",
       "Churn               0\n",
       "dtype: int64"
      ]
     },
     "execution_count": 129,
     "metadata": {},
     "output_type": "execute_result"
    }
   ],
   "source": [
    "df.isnull().sum()"
   ]
  },
  {
   "cell_type": "code",
   "execution_count": 130,
   "metadata": {},
   "outputs": [
    {
     "data": {
      "text/plain": [
       "0"
      ]
     },
     "execution_count": 130,
     "metadata": {},
     "output_type": "execute_result"
    }
   ],
   "source": [
    "df.duplicated().sum()"
   ]
  },
  {
   "cell_type": "code",
   "execution_count": 131,
   "metadata": {},
   "outputs": [
    {
     "data": {
      "text/html": [
       "<div>\n",
       "<style scoped>\n",
       "    .dataframe tbody tr th:only-of-type {\n",
       "        vertical-align: middle;\n",
       "    }\n",
       "\n",
       "    .dataframe tbody tr th {\n",
       "        vertical-align: top;\n",
       "    }\n",
       "\n",
       "    .dataframe thead th {\n",
       "        text-align: right;\n",
       "    }\n",
       "</style>\n",
       "<table border=\"1\" class=\"dataframe\">\n",
       "  <thead>\n",
       "    <tr style=\"text-align: right;\">\n",
       "      <th></th>\n",
       "      <th>features</th>\n",
       "      <th>Unique No</th>\n",
       "      <th>Uniques Values</th>\n",
       "    </tr>\n",
       "  </thead>\n",
       "  <tbody>\n",
       "    <tr>\n",
       "      <th>0</th>\n",
       "      <td>customerID</td>\n",
       "      <td>7043</td>\n",
       "      <td>[7590-VHVEG, 5575-GNVDE, 3668-QPYBK, 7795-CFOC...</td>\n",
       "    </tr>\n",
       "    <tr>\n",
       "      <th>1</th>\n",
       "      <td>gender</td>\n",
       "      <td>2</td>\n",
       "      <td>[Female, Male]</td>\n",
       "    </tr>\n",
       "    <tr>\n",
       "      <th>2</th>\n",
       "      <td>SeniorCitizen</td>\n",
       "      <td>2</td>\n",
       "      <td>[0, 1]</td>\n",
       "    </tr>\n",
       "    <tr>\n",
       "      <th>3</th>\n",
       "      <td>Partner</td>\n",
       "      <td>2</td>\n",
       "      <td>[Yes, No]</td>\n",
       "    </tr>\n",
       "    <tr>\n",
       "      <th>4</th>\n",
       "      <td>Dependents</td>\n",
       "      <td>2</td>\n",
       "      <td>[No, Yes]</td>\n",
       "    </tr>\n",
       "    <tr>\n",
       "      <th>5</th>\n",
       "      <td>tenure</td>\n",
       "      <td>73</td>\n",
       "      <td>[1, 34, 2, 45, 8, 22, 10, 28, 62, 13, 16, 58, ...</td>\n",
       "    </tr>\n",
       "    <tr>\n",
       "      <th>6</th>\n",
       "      <td>PhoneService</td>\n",
       "      <td>2</td>\n",
       "      <td>[No, Yes]</td>\n",
       "    </tr>\n",
       "    <tr>\n",
       "      <th>7</th>\n",
       "      <td>MultipleLines</td>\n",
       "      <td>3</td>\n",
       "      <td>[No phone service, No, Yes]</td>\n",
       "    </tr>\n",
       "    <tr>\n",
       "      <th>8</th>\n",
       "      <td>InternetService</td>\n",
       "      <td>3</td>\n",
       "      <td>[DSL, Fiber optic, No]</td>\n",
       "    </tr>\n",
       "    <tr>\n",
       "      <th>9</th>\n",
       "      <td>OnlineSecurity</td>\n",
       "      <td>3</td>\n",
       "      <td>[No, Yes, No internet service]</td>\n",
       "    </tr>\n",
       "    <tr>\n",
       "      <th>10</th>\n",
       "      <td>OnlineBackup</td>\n",
       "      <td>3</td>\n",
       "      <td>[Yes, No, No internet service]</td>\n",
       "    </tr>\n",
       "    <tr>\n",
       "      <th>11</th>\n",
       "      <td>DeviceProtection</td>\n",
       "      <td>3</td>\n",
       "      <td>[No, Yes, No internet service]</td>\n",
       "    </tr>\n",
       "    <tr>\n",
       "      <th>12</th>\n",
       "      <td>TechSupport</td>\n",
       "      <td>3</td>\n",
       "      <td>[No, Yes, No internet service]</td>\n",
       "    </tr>\n",
       "    <tr>\n",
       "      <th>13</th>\n",
       "      <td>StreamingTV</td>\n",
       "      <td>3</td>\n",
       "      <td>[No, Yes, No internet service]</td>\n",
       "    </tr>\n",
       "    <tr>\n",
       "      <th>14</th>\n",
       "      <td>StreamingMovies</td>\n",
       "      <td>3</td>\n",
       "      <td>[No, Yes, No internet service]</td>\n",
       "    </tr>\n",
       "    <tr>\n",
       "      <th>15</th>\n",
       "      <td>Contract</td>\n",
       "      <td>3</td>\n",
       "      <td>[Month-to-month, One year, Two year]</td>\n",
       "    </tr>\n",
       "    <tr>\n",
       "      <th>16</th>\n",
       "      <td>PaperlessBilling</td>\n",
       "      <td>2</td>\n",
       "      <td>[Yes, No]</td>\n",
       "    </tr>\n",
       "    <tr>\n",
       "      <th>17</th>\n",
       "      <td>PaymentMethod</td>\n",
       "      <td>4</td>\n",
       "      <td>[Electronic check, Mailed check, Bank transfer...</td>\n",
       "    </tr>\n",
       "    <tr>\n",
       "      <th>18</th>\n",
       "      <td>MonthlyCharges</td>\n",
       "      <td>1585</td>\n",
       "      <td>[29.85, 56.95, 53.85, 42.3, 70.7, 99.65, 89.1,...</td>\n",
       "    </tr>\n",
       "    <tr>\n",
       "      <th>19</th>\n",
       "      <td>TotalCharges</td>\n",
       "      <td>6531</td>\n",
       "      <td>[29.85, 1889.5, 108.15, 1840.75, 151.65, 820.5...</td>\n",
       "    </tr>\n",
       "    <tr>\n",
       "      <th>20</th>\n",
       "      <td>Churn</td>\n",
       "      <td>2</td>\n",
       "      <td>[No, Yes]</td>\n",
       "    </tr>\n",
       "  </tbody>\n",
       "</table>\n",
       "</div>"
      ],
      "text/plain": [
       "            features  Unique No  \\\n",
       "0         customerID       7043   \n",
       "1             gender          2   \n",
       "2      SeniorCitizen          2   \n",
       "3            Partner          2   \n",
       "4         Dependents          2   \n",
       "5             tenure         73   \n",
       "6       PhoneService          2   \n",
       "7      MultipleLines          3   \n",
       "8    InternetService          3   \n",
       "9     OnlineSecurity          3   \n",
       "10      OnlineBackup          3   \n",
       "11  DeviceProtection          3   \n",
       "12       TechSupport          3   \n",
       "13       StreamingTV          3   \n",
       "14   StreamingMovies          3   \n",
       "15          Contract          3   \n",
       "16  PaperlessBilling          2   \n",
       "17     PaymentMethod          4   \n",
       "18    MonthlyCharges       1585   \n",
       "19      TotalCharges       6531   \n",
       "20             Churn          2   \n",
       "\n",
       "                                       Uniques Values  \n",
       "0   [7590-VHVEG, 5575-GNVDE, 3668-QPYBK, 7795-CFOC...  \n",
       "1                                      [Female, Male]  \n",
       "2                                              [0, 1]  \n",
       "3                                           [Yes, No]  \n",
       "4                                           [No, Yes]  \n",
       "5   [1, 34, 2, 45, 8, 22, 10, 28, 62, 13, 16, 58, ...  \n",
       "6                                           [No, Yes]  \n",
       "7                         [No phone service, No, Yes]  \n",
       "8                              [DSL, Fiber optic, No]  \n",
       "9                      [No, Yes, No internet service]  \n",
       "10                     [Yes, No, No internet service]  \n",
       "11                     [No, Yes, No internet service]  \n",
       "12                     [No, Yes, No internet service]  \n",
       "13                     [No, Yes, No internet service]  \n",
       "14                     [No, Yes, No internet service]  \n",
       "15               [Month-to-month, One year, Two year]  \n",
       "16                                          [Yes, No]  \n",
       "17  [Electronic check, Mailed check, Bank transfer...  \n",
       "18  [29.85, 56.95, 53.85, 42.3, 70.7, 99.65, 89.1,...  \n",
       "19  [29.85, 1889.5, 108.15, 1840.75, 151.65, 820.5...  \n",
       "20                                          [No, Yes]  "
      ]
     },
     "execution_count": 131,
     "metadata": {},
     "output_type": "execute_result"
    }
   ],
   "source": [
    "tabel=[]\n",
    "\n",
    "for i in df.columns:\n",
    "    tabel.append([i,df[i].nunique(),df[i].drop_duplicates().values])\n",
    "pd.DataFrame(tabel,columns=['features','Unique No','Uniques Values'])"
   ]
  },
  {
   "cell_type": "code",
   "execution_count": 132,
   "metadata": {},
   "outputs": [],
   "source": [
    "df.drop('customerID',axis=1,inplace=True)"
   ]
  },
  {
   "cell_type": "code",
   "execution_count": 133,
   "metadata": {},
   "outputs": [
    {
     "name": "stdout",
     "output_type": "stream",
     "text": [
      "<class 'pandas.core.frame.DataFrame'>\n",
      "RangeIndex: 7043 entries, 0 to 7042\n",
      "Data columns (total 20 columns):\n",
      " #   Column            Non-Null Count  Dtype  \n",
      "---  ------            --------------  -----  \n",
      " 0   gender            7043 non-null   object \n",
      " 1   SeniorCitizen     7043 non-null   int64  \n",
      " 2   Partner           7043 non-null   object \n",
      " 3   Dependents        7043 non-null   object \n",
      " 4   tenure            7043 non-null   int64  \n",
      " 5   PhoneService      7043 non-null   object \n",
      " 6   MultipleLines     7043 non-null   object \n",
      " 7   InternetService   7043 non-null   object \n",
      " 8   OnlineSecurity    7043 non-null   object \n",
      " 9   OnlineBackup      7043 non-null   object \n",
      " 10  DeviceProtection  7043 non-null   object \n",
      " 11  TechSupport       7043 non-null   object \n",
      " 12  StreamingTV       7043 non-null   object \n",
      " 13  StreamingMovies   7043 non-null   object \n",
      " 14  Contract          7043 non-null   object \n",
      " 15  PaperlessBilling  7043 non-null   object \n",
      " 16  PaymentMethod     7043 non-null   object \n",
      " 17  MonthlyCharges    7043 non-null   float64\n",
      " 18  TotalCharges      7043 non-null   object \n",
      " 19  Churn             7043 non-null   object \n",
      "dtypes: float64(1), int64(2), object(17)\n",
      "memory usage: 1.1+ MB\n"
     ]
    }
   ],
   "source": [
    "df.info()"
   ]
  },
  {
   "cell_type": "code",
   "execution_count": 134,
   "metadata": {},
   "outputs": [],
   "source": [
    "df['TotalCharges']=pd.to_numeric(df['TotalCharges'],errors='coerce')"
   ]
  },
  {
   "cell_type": "code",
   "execution_count": 135,
   "metadata": {},
   "outputs": [
    {
     "data": {
      "text/plain": [
       "gender               0\n",
       "SeniorCitizen        0\n",
       "Partner              0\n",
       "Dependents           0\n",
       "tenure               0\n",
       "PhoneService         0\n",
       "MultipleLines        0\n",
       "InternetService      0\n",
       "OnlineSecurity       0\n",
       "OnlineBackup         0\n",
       "DeviceProtection     0\n",
       "TechSupport          0\n",
       "StreamingTV          0\n",
       "StreamingMovies      0\n",
       "Contract             0\n",
       "PaperlessBilling     0\n",
       "PaymentMethod        0\n",
       "MonthlyCharges       0\n",
       "TotalCharges        11\n",
       "Churn                0\n",
       "dtype: int64"
      ]
     },
     "execution_count": 135,
     "metadata": {},
     "output_type": "execute_result"
    }
   ],
   "source": [
    "df.isnull().sum()"
   ]
  },
  {
   "cell_type": "code",
   "execution_count": 136,
   "metadata": {},
   "outputs": [
    {
     "name": "stdout",
     "output_type": "stream",
     "text": [
      "Length Of Categorical_Features 16\n"
     ]
    },
    {
     "data": {
      "text/plain": [
       "['gender',\n",
       " 'Partner',\n",
       " 'Dependents',\n",
       " 'PhoneService',\n",
       " 'MultipleLines',\n",
       " 'InternetService',\n",
       " 'OnlineSecurity',\n",
       " 'OnlineBackup',\n",
       " 'DeviceProtection',\n",
       " 'TechSupport',\n",
       " 'StreamingTV',\n",
       " 'StreamingMovies',\n",
       " 'Contract',\n",
       " 'PaperlessBilling',\n",
       " 'PaymentMethod',\n",
       " 'Churn']"
      ]
     },
     "execution_count": 136,
     "metadata": {},
     "output_type": "execute_result"
    }
   ],
   "source": [
    "categorical_features=[features for features in df.columns if df[features].dtype=='O']\n",
    "print(\"Length Of Categorical_Features\",len(categorical_features))\n",
    "categorical_features"
   ]
  },
  {
   "cell_type": "code",
   "execution_count": 137,
   "metadata": {},
   "outputs": [
    {
     "name": "stdout",
     "output_type": "stream",
     "text": [
      "Length Of Numerical_Features 4\n"
     ]
    },
    {
     "data": {
      "text/plain": [
       "['SeniorCitizen', 'tenure', 'MonthlyCharges', 'TotalCharges']"
      ]
     },
     "execution_count": 137,
     "metadata": {},
     "output_type": "execute_result"
    }
   ],
   "source": [
    "numerical_features=[features for features in df.columns if df[features].dtype!='O']\n",
    "print(\"Length Of Numerical_Features\",len(numerical_features))\n",
    "numerical_features"
   ]
  },
  {
   "cell_type": "markdown",
   "metadata": {},
   "source": [
    "# Visualization"
   ]
  },
  {
   "cell_type": "code",
   "execution_count": 138,
   "metadata": {},
   "outputs": [
    {
     "data": {
      "image/png": "[encoded data removed]",
      "text/plain": [
       "<Figure size 432x288 with 1 Axes>"
      ]
     },
     "metadata": {},
     "output_type": "display_data"
    }
   ],
   "source": [
    "x=df['Churn'].value_counts()\n",
    "plt.pie(x,labels=x.index,shadow=True,autopct='%1.1f%%')\n",
    "plt.title(\"Churn Distribution\",fontdict={'fontweight':'bold','fontsize':20})\n",
    "plt.axis('equal')\n",
    "plt.show()"
   ]
  },
  {
   "cell_type": "code",
   "execution_count": 139,
   "metadata": {},
   "outputs": [
    {
     "data": {
      "image/png": "[encoded data removed]",
      "text/plain": [
       "<Figure size 432x288 with 1 Axes>"
      ]
     },
     "metadata": {
      "needs_background": "light"
     },
     "output_type": "display_data"
    }
   ],
   "source": [
    "ax=sns.countplot(df['gender'],hue=df['Churn'],palette='Set2')\n",
    "plt.title('Gender Distibution',fontdict={'fontweight':'bold','fontsize':20})\n",
    "plt.ylabel(\"Number Of Applicant \",fontsize=14)\n",
    "plt.xlabel('Gender',fontsize=14)\n",
    "for p in ax.patches:\n",
    "    ax.annotate('%{:.2f}'.format(p.get_height()/7043*100), (p.get_x()+0.1, p.get_height()+7))"
   ]
  },
  {
   "cell_type": "code",
   "execution_count": 140,
   "metadata": {},
   "outputs": [
    {
     "data": {
      "image/png": "[encoded data removed]",
      "text/plain": [
       "<Figure size 432x288 with 1 Axes>"
      ]
     },
     "metadata": {
      "needs_background": "light"
     },
     "output_type": "display_data"
    }
   ],
   "source": [
    "ax=sns.countplot(df['PhoneService'],hue=df['Churn'],palette='plasma')\n",
    "plt.title('Phone Service Distibution',fontdict={'fontweight':'bold','fontsize':20})\n",
    "plt.ylabel(\"Number Of Applicant \",fontsize=14)\n",
    "plt.xlabel('Phone Service',fontsize=14)\n",
    "for p in ax.patches:\n",
    "    ax.annotate('%{:.2f}'.format(p.get_height()/7043*100), (p.get_x()+0.1, p.get_height()+7))"
   ]
  },
  {
   "cell_type": "code",
   "execution_count": 141,
   "metadata": {},
   "outputs": [
    {
     "data": {
      "image/png": "[encoded data removed]",
      "text/plain": [
       "<Figure size 432x288 with 1 Axes>"
      ]
     },
     "metadata": {
      "needs_background": "light"
     },
     "output_type": "display_data"
    }
   ],
   "source": [
    "ax=sns.countplot(df['MultipleLines'],hue=df['Churn'],palette='ocean')\n",
    "plt.title('Multiple LIne Distibution',fontdict={'fontweight':'bold','fontsize':20})\n",
    "plt.ylabel(\"Number Of Applicant \",fontsize=14)\n",
    "plt.xlabel('Multiple Lines Service',fontsize=14)\n",
    "for p in ax.patches:\n",
    "    ax.annotate('%{:.2f}'.format(p.get_height()/7043*100), (p.get_x(), p.get_height()+7))"
   ]
  },
  {
   "cell_type": "code",
   "execution_count": 142,
   "metadata": {},
   "outputs": [
    {
     "data": {
      "image/png": "[encoded data removed]",
      "text/plain": [
       "<Figure size 432x288 with 1 Axes>"
      ]
     },
     "metadata": {
      "needs_background": "light"
     },
     "output_type": "display_data"
    }
   ],
   "source": [
    "ax=sns.countplot(df['OnlineSecurity'],hue=df['Churn'],palette='pink')\n",
    "plt.title('Online Security Distibution',fontdict={'fontweight':'bold','fontsize':20})\n",
    "plt.ylabel(\"Number Of Applicant \",fontsize=14)\n",
    "plt.xlabel('Online Security Service',fontsize=14)\n",
    "for p in ax.patches:\n",
    "    ax.annotate('%{:.2f}'.format(p.get_height()/7043*100), (p.get_x()+0.1, p.get_height()+7))"
   ]
  },
  {
   "cell_type": "code",
   "execution_count": 143,
   "metadata": {},
   "outputs": [
    {
     "data": {
      "image/png": "[encoded data removed]",
      "text/plain": [
       "<Figure size 432x288 with 1 Axes>"
      ]
     },
     "metadata": {
      "needs_background": "light"
     },
     "output_type": "display_data"
    }
   ],
   "source": [
    "ax=sns.countplot(df['DeviceProtection'],palette='nipy_spectral_r')\n",
    "plt.title('DeviceProtection Distibution',fontdict={'fontweight':'bold','fontsize':20})\n",
    "plt.ylabel(\"Number Of Applicant \",fontsize=14)\n",
    "plt.xlabel('DeviceProtection Service',fontsize=14)\n",
    "for p in ax.patches:\n",
    "    ax.annotate('%{:.2f}'.format(p.get_height()/7043*100), (p.get_x()+0.1, p.get_height()+7))"
   ]
  },
  {
   "cell_type": "code",
   "execution_count": 144,
   "metadata": {},
   "outputs": [
    {
     "data": {
      "text/plain": [
       "<AxesSubplot:xlabel='MonthlyCharges', ylabel='Density'>"
      ]
     },
     "execution_count": 144,
     "metadata": {},
     "output_type": "execute_result"
    },
    {
     "data": {
      "image/png": "[encoded data removed]",
      "text/plain": [
       "<Figure size 432x288 with 1 Axes>"
      ]
     },
     "metadata": {
      "needs_background": "light"
     },
     "output_type": "display_data"
    }
   ],
   "source": [
    "sns.distplot(df['MonthlyCharges'],color='green')"
   ]
  },
  {
   "cell_type": "code",
   "execution_count": 145,
   "metadata": {},
   "outputs": [
    {
     "data": {
      "image/png": "[encoded data removed]",
      "text/plain": [
       "<Figure size 432x288 with 1 Axes>"
      ]
     },
     "metadata": {
      "needs_background": "light"
     },
     "output_type": "display_data"
    }
   ],
   "source": [
    "ax=sns.countplot(df['TechSupport'],hue=df['Churn'],palette='Set2')\n",
    "plt.title('TechSupport Distibution',fontdict={'fontweight':'bold','fontsize':20})\n",
    "plt.ylabel(\"Number Of Applicant \",fontsize=14)\n",
    "plt.xlabel('TechSupport',fontsize=14)\n",
    "for p in ax.patches:\n",
    "    ax.annotate('%{:.2f}'.format(p.get_height()/7043*100), (p.get_x(), p.get_height()+7))"
   ]
  },
  {
   "cell_type": "code",
   "execution_count": 146,
   "metadata": {},
   "outputs": [
    {
     "data": {
      "image/png": "[encoded data removed]",
      "text/plain": [
       "<Figure size 432x288 with 1 Axes>"
      ]
     },
     "metadata": {
      "needs_background": "light"
     },
     "output_type": "display_data"
    }
   ],
   "source": [
    "ax=sns.countplot(df['StreamingTV'],hue=df['Churn'],palette='Set1')\n",
    "plt.title('StreamingTV Distibution',fontdict={'fontweight':'bold','fontsize':20})\n",
    "plt.ylabel(\"Number Of Applicant \",fontsize=14)\n",
    "plt.xlabel('StreamingTV',fontsize=14)\n",
    "for p in ax.patches:\n",
    "    ax.annotate('%{:.2f}'.format(p.get_height()/7043*100), (p.get_x(), p.get_height()+7))"
   ]
  },
  {
   "cell_type": "code",
   "execution_count": 147,
   "metadata": {},
   "outputs": [
    {
     "data": {
      "image/png": "[encoded data removed]",
      "text/plain": [
       "<Figure size 432x288 with 1 Axes>"
      ]
     },
     "metadata": {
      "needs_background": "light"
     },
     "output_type": "display_data"
    }
   ],
   "source": [
    "ax=sns.countplot(df['Contract'],hue=df['Churn'],palette='plasma')\n",
    "plt.title('Contract Distibution',fontdict={'fontweight':'bold','fontsize':20})\n",
    "plt.ylabel(\"Number Of Applicant \",fontsize=14)\n",
    "plt.xlabel('Contract',fontsize=14)\n",
    "for p in ax.patches:\n",
    "    ax.annotate('%{:.2f}'.format(p.get_height()/7043*100), (p.get_x(), p.get_height()+7))"
   ]
  },
  {
   "cell_type": "code",
   "execution_count": 148,
   "metadata": {},
   "outputs": [
    {
     "data": {
      "image/png": "[encoded data removed]",
      "text/plain": [
       "<Figure size 432x288 with 1 Axes>"
      ]
     },
     "metadata": {
      "needs_background": "light"
     },
     "output_type": "display_data"
    }
   ],
   "source": [
    "ax=sns.countplot(df['PaperlessBilling'],hue=df['Churn'],palette='magma')\n",
    "plt.title('PaperlessBilling Distibution',fontdict={'fontweight':'bold','fontsize':20})\n",
    "plt.ylabel(\"Number Of Applicant \",fontsize=14)\n",
    "plt.xlabel('PaperlessBilling',fontsize=14)\n",
    "for p in ax.patches:\n",
    "    ax.annotate('%{:.2f}'.format(p.get_height()/7043*100), (p.get_x(), p.get_height()+7))"
   ]
  },
  {
   "cell_type": "code",
   "execution_count": 149,
   "metadata": {},
   "outputs": [
    {
     "data": {
      "text/plain": [
       "<AxesSubplot:xlabel='PaymentMethod', ylabel='count'>"
      ]
     },
     "execution_count": 149,
     "metadata": {},
     "output_type": "execute_result"
    },
    {
     "data": {
      "image/png": "[encoded data removed]",
      "text/plain": [
       "<Figure size 576x360 with 1 Axes>"
      ]
     },
     "metadata": {
      "needs_background": "light"
     },
     "output_type": "display_data"
    }
   ],
   "source": [
    "plt.figure(figsize=(8,5))\n",
    "sns.countplot(df['PaymentMethod'],hue=df['Churn'])"
   ]
  },
  {
   "cell_type": "code",
   "execution_count": 150,
   "metadata": {},
   "outputs": [
    {
     "data": {
      "text/plain": [
       "Text(0.5, 0, 'Monthly Charges')"
      ]
     },
     "execution_count": 150,
     "metadata": {},
     "output_type": "execute_result"
    },
    {
     "data": {
      "image/png": "[encoded data removed]",
      "text/plain": [
       "<Figure size 432x288 with 1 Axes>"
      ]
     },
     "metadata": {
      "needs_background": "light"
     },
     "output_type": "display_data"
    }
   ],
   "source": [
    "sns.kdeplot(df[df['Churn']=='Yes']['MonthlyCharges'],color='Red',shade=True)\n",
    "sns.kdeplot(df[df['Churn']=='No']['MonthlyCharges'],color='Blue',shade=True)\n",
    "plt.legend(['Churn','Not Churn'],loc='upper right')\n",
    "plt.title(\"Monthly Charges Vs Churn Distribution\",fontdict={'fontweight':'bold','fontsize':15})\n",
    "plt.xlabel('Monthly Charges',fontsize=15)"
   ]
  },
  {
   "cell_type": "markdown",
   "metadata": {},
   "source": [
    "From This Chart we can see that as the monthly charge increases No of customer as Churn also increases."
   ]
  },
  {
   "cell_type": "code",
   "execution_count": 151,
   "metadata": {},
   "outputs": [
    {
     "data": {
      "text/plain": [
       "Text(0.5, 1.0, 'Tenure Vs Churn Distribution')"
      ]
     },
     "execution_count": 151,
     "metadata": {},
     "output_type": "execute_result"
    },
    {
     "data": {
      "image/png": "[encoded data removed]",
      "text/plain": [
       "<Figure size 432x288 with 1 Axes>"
      ]
     },
     "metadata": {
      "needs_background": "light"
     },
     "output_type": "display_data"
    }
   ],
   "source": [
    "sns.kdeplot(df[df['Churn']=='Yes']['tenure'],color='Red',shade=True)\n",
    "sns.kdeplot(df[df['Churn']=='No']['tenure'],color='Blue',shade=True)\n",
    "plt.legend(['Churn','Not Churn'],loc='upper right')\n",
    "plt.title('Tenure Vs Churn Distribution',fontdict={'fontweight':'bold','fontsize':20})"
   ]
  },
  {
   "cell_type": "markdown",
   "metadata": {},
   "source": [
    "As the No of tenure increases Churn is also decreases. "
   ]
  },
  {
   "cell_type": "markdown",
   "metadata": {},
   "source": [
    "# Data PreProcessing"
   ]
  },
  {
   "cell_type": "code",
   "execution_count": 152,
   "metadata": {},
   "outputs": [],
   "source": [
    "df['TotalCharges']=df['TotalCharges'].fillna(df['TotalCharges'].median())"
   ]
  },
  {
   "cell_type": "markdown",
   "metadata": {},
   "source": [
    "Label Encoder"
   ]
  },
  {
   "cell_type": "code",
   "execution_count": 153,
   "metadata": {},
   "outputs": [],
   "source": [
    "from sklearn.preprocessing import LabelEncoder"
   ]
  },
  {
   "cell_type": "code",
   "execution_count": 154,
   "metadata": {},
   "outputs": [],
   "source": [
    "lb=LabelEncoder()"
   ]
  },
  {
   "cell_type": "code",
   "execution_count": 155,
   "metadata": {},
   "outputs": [],
   "source": [
    "for i in categorical_features:\n",
    "    df[i]=lb.fit_transform(df[i])"
   ]
  },
  {
   "cell_type": "code",
   "execution_count": 156,
   "metadata": {},
   "outputs": [
    {
     "data": {
      "text/html": [
       "<div>\n",
       "<style scoped>\n",
       "    .dataframe tbody tr th:only-of-type {\n",
       "        vertical-align: middle;\n",
       "    }\n",
       "\n",
       "    .dataframe tbody tr th {\n",
       "        vertical-align: top;\n",
       "    }\n",
       "\n",
       "    .dataframe thead th {\n",
       "        text-align: right;\n",
       "    }\n",
       "</style>\n",
       "<table border=\"1\" class=\"dataframe\">\n",
       "  <thead>\n",
       "    <tr style=\"text-align: right;\">\n",
       "      <th></th>\n",
       "      <th>gender</th>\n",
       "      <th>SeniorCitizen</th>\n",
       "      <th>Partner</th>\n",
       "      <th>Dependents</th>\n",
       "      <th>tenure</th>\n",
       "      <th>PhoneService</th>\n",
       "      <th>MultipleLines</th>\n",
       "      <th>InternetService</th>\n",
       "      <th>OnlineSecurity</th>\n",
       "      <th>OnlineBackup</th>\n",
       "      <th>DeviceProtection</th>\n",
       "      <th>TechSupport</th>\n",
       "      <th>StreamingTV</th>\n",
       "      <th>StreamingMovies</th>\n",
       "      <th>Contract</th>\n",
       "      <th>PaperlessBilling</th>\n",
       "      <th>PaymentMethod</th>\n",
       "      <th>MonthlyCharges</th>\n",
       "      <th>TotalCharges</th>\n",
       "      <th>Churn</th>\n",
       "    </tr>\n",
       "  </thead>\n",
       "  <tbody>\n",
       "    <tr>\n",
       "      <th>0</th>\n",
       "      <td>0</td>\n",
       "      <td>0</td>\n",
       "      <td>1</td>\n",
       "      <td>0</td>\n",
       "      <td>1</td>\n",
       "      <td>0</td>\n",
       "      <td>1</td>\n",
       "      <td>0</td>\n",
       "      <td>0</td>\n",
       "      <td>2</td>\n",
       "      <td>0</td>\n",
       "      <td>0</td>\n",
       "      <td>0</td>\n",
       "      <td>0</td>\n",
       "      <td>0</td>\n",
       "      <td>1</td>\n",
       "      <td>2</td>\n",
       "      <td>29.85</td>\n",
       "      <td>29.85</td>\n",
       "      <td>0</td>\n",
       "    </tr>\n",
       "    <tr>\n",
       "      <th>1</th>\n",
       "      <td>1</td>\n",
       "      <td>0</td>\n",
       "      <td>0</td>\n",
       "      <td>0</td>\n",
       "      <td>34</td>\n",
       "      <td>1</td>\n",
       "      <td>0</td>\n",
       "      <td>0</td>\n",
       "      <td>2</td>\n",
       "      <td>0</td>\n",
       "      <td>2</td>\n",
       "      <td>0</td>\n",
       "      <td>0</td>\n",
       "      <td>0</td>\n",
       "      <td>1</td>\n",
       "      <td>0</td>\n",
       "      <td>3</td>\n",
       "      <td>56.95</td>\n",
       "      <td>1889.50</td>\n",
       "      <td>0</td>\n",
       "    </tr>\n",
       "    <tr>\n",
       "      <th>2</th>\n",
       "      <td>1</td>\n",
       "      <td>0</td>\n",
       "      <td>0</td>\n",
       "      <td>0</td>\n",
       "      <td>2</td>\n",
       "      <td>1</td>\n",
       "      <td>0</td>\n",
       "      <td>0</td>\n",
       "      <td>2</td>\n",
       "      <td>2</td>\n",
       "      <td>0</td>\n",
       "      <td>0</td>\n",
       "      <td>0</td>\n",
       "      <td>0</td>\n",
       "      <td>0</td>\n",
       "      <td>1</td>\n",
       "      <td>3</td>\n",
       "      <td>53.85</td>\n",
       "      <td>108.15</td>\n",
       "      <td>1</td>\n",
       "    </tr>\n",
       "    <tr>\n",
       "      <th>3</th>\n",
       "      <td>1</td>\n",
       "      <td>0</td>\n",
       "      <td>0</td>\n",
       "      <td>0</td>\n",
       "      <td>45</td>\n",
       "      <td>0</td>\n",
       "      <td>1</td>\n",
       "      <td>0</td>\n",
       "      <td>2</td>\n",
       "      <td>0</td>\n",
       "      <td>2</td>\n",
       "      <td>2</td>\n",
       "      <td>0</td>\n",
       "      <td>0</td>\n",
       "      <td>1</td>\n",
       "      <td>0</td>\n",
       "      <td>0</td>\n",
       "      <td>42.30</td>\n",
       "      <td>1840.75</td>\n",
       "      <td>0</td>\n",
       "    </tr>\n",
       "    <tr>\n",
       "      <th>4</th>\n",
       "      <td>0</td>\n",
       "      <td>0</td>\n",
       "      <td>0</td>\n",
       "      <td>0</td>\n",
       "      <td>2</td>\n",
       "      <td>1</td>\n",
       "      <td>0</td>\n",
       "      <td>1</td>\n",
       "      <td>0</td>\n",
       "      <td>0</td>\n",
       "      <td>0</td>\n",
       "      <td>0</td>\n",
       "      <td>0</td>\n",
       "      <td>0</td>\n",
       "      <td>0</td>\n",
       "      <td>1</td>\n",
       "      <td>2</td>\n",
       "      <td>70.70</td>\n",
       "      <td>151.65</td>\n",
       "      <td>1</td>\n",
       "    </tr>\n",
       "    <tr>\n",
       "      <th>...</th>\n",
       "      <td>...</td>\n",
       "      <td>...</td>\n",
       "      <td>...</td>\n",
       "      <td>...</td>\n",
       "      <td>...</td>\n",
       "      <td>...</td>\n",
       "      <td>...</td>\n",
       "      <td>...</td>\n",
       "      <td>...</td>\n",
       "      <td>...</td>\n",
       "      <td>...</td>\n",
       "      <td>...</td>\n",
       "      <td>...</td>\n",
       "      <td>...</td>\n",
       "      <td>...</td>\n",
       "      <td>...</td>\n",
       "      <td>...</td>\n",
       "      <td>...</td>\n",
       "      <td>...</td>\n",
       "      <td>...</td>\n",
       "    </tr>\n",
       "    <tr>\n",
       "      <th>7038</th>\n",
       "      <td>1</td>\n",
       "      <td>0</td>\n",
       "      <td>1</td>\n",
       "      <td>1</td>\n",
       "      <td>24</td>\n",
       "      <td>1</td>\n",
       "      <td>2</td>\n",
       "      <td>0</td>\n",
       "      <td>2</td>\n",
       "      <td>0</td>\n",
       "      <td>2</td>\n",
       "      <td>2</td>\n",
       "      <td>2</td>\n",
       "      <td>2</td>\n",
       "      <td>1</td>\n",
       "      <td>1</td>\n",
       "      <td>3</td>\n",
       "      <td>84.80</td>\n",
       "      <td>1990.50</td>\n",
       "      <td>0</td>\n",
       "    </tr>\n",
       "    <tr>\n",
       "      <th>7039</th>\n",
       "      <td>0</td>\n",
       "      <td>0</td>\n",
       "      <td>1</td>\n",
       "      <td>1</td>\n",
       "      <td>72</td>\n",
       "      <td>1</td>\n",
       "      <td>2</td>\n",
       "      <td>1</td>\n",
       "      <td>0</td>\n",
       "      <td>2</td>\n",
       "      <td>2</td>\n",
       "      <td>0</td>\n",
       "      <td>2</td>\n",
       "      <td>2</td>\n",
       "      <td>1</td>\n",
       "      <td>1</td>\n",
       "      <td>1</td>\n",
       "      <td>103.20</td>\n",
       "      <td>7362.90</td>\n",
       "      <td>0</td>\n",
       "    </tr>\n",
       "    <tr>\n",
       "      <th>7040</th>\n",
       "      <td>0</td>\n",
       "      <td>0</td>\n",
       "      <td>1</td>\n",
       "      <td>1</td>\n",
       "      <td>11</td>\n",
       "      <td>0</td>\n",
       "      <td>1</td>\n",
       "      <td>0</td>\n",
       "      <td>2</td>\n",
       "      <td>0</td>\n",
       "      <td>0</td>\n",
       "      <td>0</td>\n",
       "      <td>0</td>\n",
       "      <td>0</td>\n",
       "      <td>0</td>\n",
       "      <td>1</td>\n",
       "      <td>2</td>\n",
       "      <td>29.60</td>\n",
       "      <td>346.45</td>\n",
       "      <td>0</td>\n",
       "    </tr>\n",
       "    <tr>\n",
       "      <th>7041</th>\n",
       "      <td>1</td>\n",
       "      <td>1</td>\n",
       "      <td>1</td>\n",
       "      <td>0</td>\n",
       "      <td>4</td>\n",
       "      <td>1</td>\n",
       "      <td>2</td>\n",
       "      <td>1</td>\n",
       "      <td>0</td>\n",
       "      <td>0</td>\n",
       "      <td>0</td>\n",
       "      <td>0</td>\n",
       "      <td>0</td>\n",
       "      <td>0</td>\n",
       "      <td>0</td>\n",
       "      <td>1</td>\n",
       "      <td>3</td>\n",
       "      <td>74.40</td>\n",
       "      <td>306.60</td>\n",
       "      <td>1</td>\n",
       "    </tr>\n",
       "    <tr>\n",
       "      <th>7042</th>\n",
       "      <td>1</td>\n",
       "      <td>0</td>\n",
       "      <td>0</td>\n",
       "      <td>0</td>\n",
       "      <td>66</td>\n",
       "      <td>1</td>\n",
       "      <td>0</td>\n",
       "      <td>1</td>\n",
       "      <td>2</td>\n",
       "      <td>0</td>\n",
       "      <td>2</td>\n",
       "      <td>2</td>\n",
       "      <td>2</td>\n",
       "      <td>2</td>\n",
       "      <td>2</td>\n",
       "      <td>1</td>\n",
       "      <td>0</td>\n",
       "      <td>105.65</td>\n",
       "      <td>6844.50</td>\n",
       "      <td>0</td>\n",
       "    </tr>\n",
       "  </tbody>\n",
       "</table>\n",
       "<p>7043 rows × 20 columns</p>\n",
       "</div>"
      ],
      "text/plain": [
       "      gender  SeniorCitizen  Partner  Dependents  tenure  PhoneService  \\\n",
       "0          0              0        1           0       1             0   \n",
       "1          1              0        0           0      34             1   \n",
       "2          1              0        0           0       2             1   \n",
       "3          1              0        0           0      45             0   \n",
       "4          0              0        0           0       2             1   \n",
       "...      ...            ...      ...         ...     ...           ...   \n",
       "7038       1              0        1           1      24             1   \n",
       "7039       0              0        1           1      72             1   \n",
       "7040       0              0        1           1      11             0   \n",
       "7041       1              1        1           0       4             1   \n",
       "7042       1              0        0           0      66             1   \n",
       "\n",
       "      MultipleLines  InternetService  OnlineSecurity  OnlineBackup  \\\n",
       "0                 1                0               0             2   \n",
       "1                 0                0               2             0   \n",
       "2                 0                0               2             2   \n",
       "3                 1                0               2             0   \n",
       "4                 0                1               0             0   \n",
       "...             ...              ...             ...           ...   \n",
       "7038              2                0               2             0   \n",
       "7039              2                1               0             2   \n",
       "7040              1                0               2             0   \n",
       "7041              2                1               0             0   \n",
       "7042              0                1               2             0   \n",
       "\n",
       "      DeviceProtection  TechSupport  StreamingTV  StreamingMovies  Contract  \\\n",
       "0                    0            0            0                0         0   \n",
       "1                    2            0            0                0         1   \n",
       "2                    0            0            0                0         0   \n",
       "3                    2            2            0                0         1   \n",
       "4                    0            0            0                0         0   \n",
       "...                ...          ...          ...              ...       ...   \n",
       "7038                 2            2            2                2         1   \n",
       "7039                 2            0            2                2         1   \n",
       "7040                 0            0            0                0         0   \n",
       "7041                 0            0            0                0         0   \n",
       "7042                 2            2            2                2         2   \n",
       "\n",
       "      PaperlessBilling  PaymentMethod  MonthlyCharges  TotalCharges  Churn  \n",
       "0                    1              2           29.85         29.85      0  \n",
       "1                    0              3           56.95       1889.50      0  \n",
       "2                    1              3           53.85        108.15      1  \n",
       "3                    0              0           42.30       1840.75      0  \n",
       "4                    1              2           70.70        151.65      1  \n",
       "...                ...            ...             ...           ...    ...  \n",
       "7038                 1              3           84.80       1990.50      0  \n",
       "7039                 1              1          103.20       7362.90      0  \n",
       "7040                 1              2           29.60        346.45      0  \n",
       "7041                 1              3           74.40        306.60      1  \n",
       "7042                 1              0          105.65       6844.50      0  \n",
       "\n",
       "[7043 rows x 20 columns]"
      ]
     },
     "execution_count": 156,
     "metadata": {},
     "output_type": "execute_result"
    }
   ],
   "source": [
    "df"
   ]
  },
  {
   "cell_type": "markdown",
   "metadata": {},
   "source": [
    "# STATASTICAL"
   ]
  },
  {
   "cell_type": "code",
   "execution_count": 157,
   "metadata": {},
   "outputs": [
    {
     "data": {
      "text/html": [
       "<div>\n",
       "<style scoped>\n",
       "    .dataframe tbody tr th:only-of-type {\n",
       "        vertical-align: middle;\n",
       "    }\n",
       "\n",
       "    .dataframe tbody tr th {\n",
       "        vertical-align: top;\n",
       "    }\n",
       "\n",
       "    .dataframe thead th {\n",
       "        text-align: right;\n",
       "    }\n",
       "</style>\n",
       "<table border=\"1\" class=\"dataframe\">\n",
       "  <thead>\n",
       "    <tr style=\"text-align: right;\">\n",
       "      <th></th>\n",
       "      <th>gender</th>\n",
       "      <th>SeniorCitizen</th>\n",
       "      <th>Partner</th>\n",
       "      <th>Dependents</th>\n",
       "      <th>tenure</th>\n",
       "      <th>PhoneService</th>\n",
       "      <th>MultipleLines</th>\n",
       "      <th>InternetService</th>\n",
       "      <th>OnlineSecurity</th>\n",
       "      <th>OnlineBackup</th>\n",
       "      <th>DeviceProtection</th>\n",
       "      <th>TechSupport</th>\n",
       "      <th>StreamingTV</th>\n",
       "      <th>StreamingMovies</th>\n",
       "      <th>Contract</th>\n",
       "      <th>PaperlessBilling</th>\n",
       "      <th>PaymentMethod</th>\n",
       "      <th>MonthlyCharges</th>\n",
       "      <th>TotalCharges</th>\n",
       "      <th>Churn</th>\n",
       "    </tr>\n",
       "  </thead>\n",
       "  <tbody>\n",
       "    <tr>\n",
       "      <th>count</th>\n",
       "      <td>7043.000000</td>\n",
       "      <td>7043.000000</td>\n",
       "      <td>7043.000000</td>\n",
       "      <td>7043.000000</td>\n",
       "      <td>7043.000000</td>\n",
       "      <td>7043.000000</td>\n",
       "      <td>7043.000000</td>\n",
       "      <td>7043.000000</td>\n",
       "      <td>7043.000000</td>\n",
       "      <td>7043.000000</td>\n",
       "      <td>7043.000000</td>\n",
       "      <td>7043.000000</td>\n",
       "      <td>7043.000000</td>\n",
       "      <td>7043.000000</td>\n",
       "      <td>7043.000000</td>\n",
       "      <td>7043.000000</td>\n",
       "      <td>7043.000000</td>\n",
       "      <td>7043.000000</td>\n",
       "      <td>7043.000000</td>\n",
       "      <td>7043.000000</td>\n",
       "    </tr>\n",
       "    <tr>\n",
       "      <th>mean</th>\n",
       "      <td>0.504756</td>\n",
       "      <td>0.162147</td>\n",
       "      <td>0.483033</td>\n",
       "      <td>0.299588</td>\n",
       "      <td>32.371149</td>\n",
       "      <td>0.903166</td>\n",
       "      <td>0.940508</td>\n",
       "      <td>0.872923</td>\n",
       "      <td>0.790004</td>\n",
       "      <td>0.906432</td>\n",
       "      <td>0.904444</td>\n",
       "      <td>0.797104</td>\n",
       "      <td>0.985376</td>\n",
       "      <td>0.992475</td>\n",
       "      <td>0.690473</td>\n",
       "      <td>0.592219</td>\n",
       "      <td>1.574329</td>\n",
       "      <td>64.761692</td>\n",
       "      <td>2281.916928</td>\n",
       "      <td>0.265370</td>\n",
       "    </tr>\n",
       "    <tr>\n",
       "      <th>std</th>\n",
       "      <td>0.500013</td>\n",
       "      <td>0.368612</td>\n",
       "      <td>0.499748</td>\n",
       "      <td>0.458110</td>\n",
       "      <td>24.559481</td>\n",
       "      <td>0.295752</td>\n",
       "      <td>0.948554</td>\n",
       "      <td>0.737796</td>\n",
       "      <td>0.859848</td>\n",
       "      <td>0.880162</td>\n",
       "      <td>0.879949</td>\n",
       "      <td>0.861551</td>\n",
       "      <td>0.885002</td>\n",
       "      <td>0.885091</td>\n",
       "      <td>0.833755</td>\n",
       "      <td>0.491457</td>\n",
       "      <td>1.068104</td>\n",
       "      <td>30.090047</td>\n",
       "      <td>2265.270398</td>\n",
       "      <td>0.441561</td>\n",
       "    </tr>\n",
       "    <tr>\n",
       "      <th>min</th>\n",
       "      <td>0.000000</td>\n",
       "      <td>0.000000</td>\n",
       "      <td>0.000000</td>\n",
       "      <td>0.000000</td>\n",
       "      <td>0.000000</td>\n",
       "      <td>0.000000</td>\n",
       "      <td>0.000000</td>\n",
       "      <td>0.000000</td>\n",
       "      <td>0.000000</td>\n",
       "      <td>0.000000</td>\n",
       "      <td>0.000000</td>\n",
       "      <td>0.000000</td>\n",
       "      <td>0.000000</td>\n",
       "      <td>0.000000</td>\n",
       "      <td>0.000000</td>\n",
       "      <td>0.000000</td>\n",
       "      <td>0.000000</td>\n",
       "      <td>18.250000</td>\n",
       "      <td>18.800000</td>\n",
       "      <td>0.000000</td>\n",
       "    </tr>\n",
       "    <tr>\n",
       "      <th>25%</th>\n",
       "      <td>0.000000</td>\n",
       "      <td>0.000000</td>\n",
       "      <td>0.000000</td>\n",
       "      <td>0.000000</td>\n",
       "      <td>9.000000</td>\n",
       "      <td>1.000000</td>\n",
       "      <td>0.000000</td>\n",
       "      <td>0.000000</td>\n",
       "      <td>0.000000</td>\n",
       "      <td>0.000000</td>\n",
       "      <td>0.000000</td>\n",
       "      <td>0.000000</td>\n",
       "      <td>0.000000</td>\n",
       "      <td>0.000000</td>\n",
       "      <td>0.000000</td>\n",
       "      <td>0.000000</td>\n",
       "      <td>1.000000</td>\n",
       "      <td>35.500000</td>\n",
       "      <td>402.225000</td>\n",
       "      <td>0.000000</td>\n",
       "    </tr>\n",
       "    <tr>\n",
       "      <th>50%</th>\n",
       "      <td>1.000000</td>\n",
       "      <td>0.000000</td>\n",
       "      <td>0.000000</td>\n",
       "      <td>0.000000</td>\n",
       "      <td>29.000000</td>\n",
       "      <td>1.000000</td>\n",
       "      <td>1.000000</td>\n",
       "      <td>1.000000</td>\n",
       "      <td>1.000000</td>\n",
       "      <td>1.000000</td>\n",
       "      <td>1.000000</td>\n",
       "      <td>1.000000</td>\n",
       "      <td>1.000000</td>\n",
       "      <td>1.000000</td>\n",
       "      <td>0.000000</td>\n",
       "      <td>1.000000</td>\n",
       "      <td>2.000000</td>\n",
       "      <td>70.350000</td>\n",
       "      <td>1397.475000</td>\n",
       "      <td>0.000000</td>\n",
       "    </tr>\n",
       "    <tr>\n",
       "      <th>75%</th>\n",
       "      <td>1.000000</td>\n",
       "      <td>0.000000</td>\n",
       "      <td>1.000000</td>\n",
       "      <td>1.000000</td>\n",
       "      <td>55.000000</td>\n",
       "      <td>1.000000</td>\n",
       "      <td>2.000000</td>\n",
       "      <td>1.000000</td>\n",
       "      <td>2.000000</td>\n",
       "      <td>2.000000</td>\n",
       "      <td>2.000000</td>\n",
       "      <td>2.000000</td>\n",
       "      <td>2.000000</td>\n",
       "      <td>2.000000</td>\n",
       "      <td>1.000000</td>\n",
       "      <td>1.000000</td>\n",
       "      <td>2.000000</td>\n",
       "      <td>89.850000</td>\n",
       "      <td>3786.600000</td>\n",
       "      <td>1.000000</td>\n",
       "    </tr>\n",
       "    <tr>\n",
       "      <th>max</th>\n",
       "      <td>1.000000</td>\n",
       "      <td>1.000000</td>\n",
       "      <td>1.000000</td>\n",
       "      <td>1.000000</td>\n",
       "      <td>72.000000</td>\n",
       "      <td>1.000000</td>\n",
       "      <td>2.000000</td>\n",
       "      <td>2.000000</td>\n",
       "      <td>2.000000</td>\n",
       "      <td>2.000000</td>\n",
       "      <td>2.000000</td>\n",
       "      <td>2.000000</td>\n",
       "      <td>2.000000</td>\n",
       "      <td>2.000000</td>\n",
       "      <td>2.000000</td>\n",
       "      <td>1.000000</td>\n",
       "      <td>3.000000</td>\n",
       "      <td>118.750000</td>\n",
       "      <td>8684.800000</td>\n",
       "      <td>1.000000</td>\n",
       "    </tr>\n",
       "  </tbody>\n",
       "</table>\n",
       "</div>"
      ],
      "text/plain": [
       "            gender  SeniorCitizen      Partner   Dependents       tenure  \\\n",
       "count  7043.000000    7043.000000  7043.000000  7043.000000  7043.000000   \n",
       "mean      0.504756       0.162147     0.483033     0.299588    32.371149   \n",
       "std       0.500013       0.368612     0.499748     0.458110    24.559481   \n",
       "min       0.000000       0.000000     0.000000     0.000000     0.000000   \n",
       "25%       0.000000       0.000000     0.000000     0.000000     9.000000   \n",
       "50%       1.000000       0.000000     0.000000     0.000000    29.000000   \n",
       "75%       1.000000       0.000000     1.000000     1.000000    55.000000   \n",
       "max       1.000000       1.000000     1.000000     1.000000    72.000000   \n",
       "\n",
       "       PhoneService  MultipleLines  InternetService  OnlineSecurity  \\\n",
       "count   7043.000000    7043.000000      7043.000000     7043.000000   \n",
       "mean       0.903166       0.940508         0.872923        0.790004   \n",
       "std        0.295752       0.948554         0.737796        0.859848   \n",
       "min        0.000000       0.000000         0.000000        0.000000   \n",
       "25%        1.000000       0.000000         0.000000        0.000000   \n",
       "50%        1.000000       1.000000         1.000000        1.000000   \n",
       "75%        1.000000       2.000000         1.000000        2.000000   \n",
       "max        1.000000       2.000000         2.000000        2.000000   \n",
       "\n",
       "       OnlineBackup  DeviceProtection  TechSupport  StreamingTV  \\\n",
       "count   7043.000000       7043.000000  7043.000000  7043.000000   \n",
       "mean       0.906432          0.904444     0.797104     0.985376   \n",
       "std        0.880162          0.879949     0.861551     0.885002   \n",
       "min        0.000000          0.000000     0.000000     0.000000   \n",
       "25%        0.000000          0.000000     0.000000     0.000000   \n",
       "50%        1.000000          1.000000     1.000000     1.000000   \n",
       "75%        2.000000          2.000000     2.000000     2.000000   \n",
       "max        2.000000          2.000000     2.000000     2.000000   \n",
       "\n",
       "       StreamingMovies     Contract  PaperlessBilling  PaymentMethod  \\\n",
       "count      7043.000000  7043.000000       7043.000000    7043.000000   \n",
       "mean          0.992475     0.690473          0.592219       1.574329   \n",
       "std           0.885091     0.833755          0.491457       1.068104   \n",
       "min           0.000000     0.000000          0.000000       0.000000   \n",
       "25%           0.000000     0.000000          0.000000       1.000000   \n",
       "50%           1.000000     0.000000          1.000000       2.000000   \n",
       "75%           2.000000     1.000000          1.000000       2.000000   \n",
       "max           2.000000     2.000000          1.000000       3.000000   \n",
       "\n",
       "       MonthlyCharges  TotalCharges        Churn  \n",
       "count     7043.000000   7043.000000  7043.000000  \n",
       "mean        64.761692   2281.916928     0.265370  \n",
       "std         30.090047   2265.270398     0.441561  \n",
       "min         18.250000     18.800000     0.000000  \n",
       "25%         35.500000    402.225000     0.000000  \n",
       "50%         70.350000   1397.475000     0.000000  \n",
       "75%         89.850000   3786.600000     1.000000  \n",
       "max        118.750000   8684.800000     1.000000  "
      ]
     },
     "execution_count": 157,
     "metadata": {},
     "output_type": "execute_result"
    }
   ],
   "source": [
    "df.describe()"
   ]
  },
  {
   "cell_type": "code",
   "execution_count": 158,
   "metadata": {},
   "outputs": [
    {
     "data": {
      "text/plain": [
       "1397.475    11\n",
       "20.200      11\n",
       "19.750       9\n",
       "19.650       8\n",
       "20.050       8\n",
       "            ..\n",
       "607.300      1\n",
       "1534.050     1\n",
       "1066.150     1\n",
       "249.950      1\n",
       "1024.000     1\n",
       "Name: TotalCharges, Length: 6531, dtype: int64"
      ]
     },
     "execution_count": 158,
     "metadata": {},
     "output_type": "execute_result"
    }
   ],
   "source": [
    "df['TotalCharges'].value_counts()"
   ]
  },
  {
   "cell_type": "code",
   "execution_count": 159,
   "metadata": {},
   "outputs": [
    {
     "data": {
      "text/plain": [
       "Text(0.5, 1.0, 'Co-Relation Chart')"
      ]
     },
     "execution_count": 159,
     "metadata": {},
     "output_type": "execute_result"
    },
    {
     "data": {
      "image/png": "[encoded data removed]",
      "text/plain": [
       "<Figure size 1080x576 with 2 Axes>"
      ]
     },
     "metadata": {
      "needs_background": "light"
     },
     "output_type": "display_data"
    }
   ],
   "source": [
    "plt.figure(figsize=(15,8))\n",
    "Corr=df.corr()\n",
    "sns.heatmap(data=Corr,annot=True)\n",
    "plt.title(\"Co-Relation Chart\",fontdict={'fontweight':'bold','fontsize':20})"
   ]
  },
  {
   "cell_type": "code",
   "execution_count": 160,
   "metadata": {},
   "outputs": [],
   "source": [
    "x=df.drop(['Churn'],axis=1)\n",
    "y=df['Churn']"
   ]
  },
  {
   "cell_type": "markdown",
   "metadata": {},
   "source": [
    "# VIF"
   ]
  },
  {
   "cell_type": "code",
   "execution_count": 161,
   "metadata": {},
   "outputs": [],
   "source": [
    "from statsmodels.stats.outliers_influence import variance_inflation_factor"
   ]
  },
  {
   "cell_type": "code",
   "execution_count": 162,
   "metadata": {},
   "outputs": [],
   "source": [
    "def valcal():\n",
    "    vif=pd.DataFrame()\n",
    "    vif['vif factor']=[variance_inflation_factor(x.values,i) for i in range(x.shape[1])]\n",
    "    vif['features']=x.columns\n",
    "    print(vif)"
   ]
  },
  {
   "cell_type": "code",
   "execution_count": 163,
   "metadata": {},
   "outputs": [
    {
     "name": "stdout",
     "output_type": "stream",
     "text": [
      "    vif factor          features\n",
      "0     1.954266            gender\n",
      "1     1.369575     SeniorCitizen\n",
      "2     2.821462           Partner\n",
      "3     1.963522        Dependents\n",
      "4    14.741408            tenure\n",
      "5    15.137915      PhoneService\n",
      "6     2.753025     MultipleLines\n",
      "7     4.352505   InternetService\n",
      "8     2.249563    OnlineSecurity\n",
      "9     2.456908      OnlineBackup\n",
      "10    2.632625  DeviceProtection\n",
      "11    2.383054       TechSupport\n",
      "12    3.240593       StreamingTV\n",
      "13    3.262125   StreamingMovies\n",
      "14    4.160277          Contract\n",
      "15    2.871827  PaperlessBilling\n",
      "16    3.095909     PaymentMethod\n",
      "17   20.437251    MonthlyCharges\n",
      "18   13.744834      TotalCharges\n"
     ]
    }
   ],
   "source": [
    "valcal()"
   ]
  },
  {
   "cell_type": "code",
   "execution_count": 164,
   "metadata": {},
   "outputs": [],
   "source": [
    "x.drop(['tenure'],axis=1,inplace=True)"
   ]
  },
  {
   "cell_type": "code",
   "execution_count": 165,
   "metadata": {},
   "outputs": [
    {
     "name": "stdout",
     "output_type": "stream",
     "text": [
      "    vif factor          features\n",
      "0     1.928452            gender\n",
      "1     1.362235     SeniorCitizen\n",
      "2     2.753223           Partner\n",
      "3     1.962810        Dependents\n",
      "4    14.669616      PhoneService\n",
      "5     2.696628     MultipleLines\n",
      "6     4.331175   InternetService\n",
      "7     2.233784    OnlineSecurity\n",
      "8     2.443724      OnlineBackup\n",
      "9     2.630603  DeviceProtection\n",
      "10    2.382716       TechSupport\n",
      "11    3.239199       StreamingTV\n",
      "12    3.261915   StreamingMovies\n",
      "13    3.401518          Contract\n",
      "14    2.817794  PaperlessBilling\n",
      "15    3.092590     PaymentMethod\n",
      "16   18.911907    MonthlyCharges\n",
      "17    6.967387      TotalCharges\n"
     ]
    }
   ],
   "source": [
    "valcal()"
   ]
  },
  {
   "cell_type": "code",
   "execution_count": 166,
   "metadata": {},
   "outputs": [],
   "source": [
    "x.drop('TotalCharges',axis=1,inplace=True)"
   ]
  },
  {
   "cell_type": "code",
   "execution_count": 167,
   "metadata": {},
   "outputs": [
    {
     "name": "stdout",
     "output_type": "stream",
     "text": [
      "    vif factor          features\n",
      "0     1.923192            gender\n",
      "1     1.362158     SeniorCitizen\n",
      "2     2.705530           Partner\n",
      "3     1.949620        Dependents\n",
      "4    14.163463      PhoneService\n",
      "5     2.636793     MultipleLines\n",
      "6     4.318307   InternetService\n",
      "7     2.208669    OnlineSecurity\n",
      "8     2.338041      OnlineBackup\n",
      "9     2.597757  DeviceProtection\n",
      "10    2.378448       TechSupport\n",
      "11    3.230331       StreamingTV\n",
      "12    3.252779   StreamingMovies\n",
      "13    2.937303          Contract\n",
      "14    2.808123  PaperlessBilling\n",
      "15    2.802050     PaymentMethod\n",
      "16   14.390121    MonthlyCharges\n"
     ]
    }
   ],
   "source": [
    "valcal()"
   ]
  },
  {
   "cell_type": "code",
   "execution_count": 168,
   "metadata": {},
   "outputs": [],
   "source": [
    "x.drop('PhoneService',axis=1,inplace=True)"
   ]
  },
  {
   "cell_type": "code",
   "execution_count": 169,
   "metadata": {},
   "outputs": [
    {
     "name": "stdout",
     "output_type": "stream",
     "text": [
      "    vif factor          features\n",
      "0     1.905785            gender\n",
      "1     1.359754     SeniorCitizen\n",
      "2     2.704374           Partner\n",
      "3     1.940658        Dependents\n",
      "4     2.557110     MultipleLines\n",
      "5     2.393217   InternetService\n",
      "6     2.187657    OnlineSecurity\n",
      "7     2.337800      OnlineBackup\n",
      "8     2.591790  DeviceProtection\n",
      "9     2.364359       TechSupport\n",
      "10    3.147181       StreamingTV\n",
      "11    3.171631   StreamingMovies\n",
      "12    2.901507          Contract\n",
      "13    2.806590  PaperlessBilling\n",
      "14    2.634340     PaymentMethod\n",
      "15    7.949949    MonthlyCharges\n"
     ]
    }
   ],
   "source": [
    "valcal()"
   ]
  },
  {
   "cell_type": "code",
   "execution_count": 170,
   "metadata": {},
   "outputs": [],
   "source": [
    "x.drop('StreamingMovies',axis=1,inplace=True)"
   ]
  },
  {
   "cell_type": "code",
   "execution_count": 171,
   "metadata": {},
   "outputs": [
    {
     "name": "stdout",
     "output_type": "stream",
     "text": [
      "    vif factor          features\n",
      "0     1.905147            gender\n",
      "1     1.359748     SeniorCitizen\n",
      "2     2.704068           Partner\n",
      "3     1.939794        Dependents\n",
      "4     2.557103     MultipleLines\n",
      "5     2.343101   InternetService\n",
      "6     2.185893    OnlineSecurity\n",
      "7     2.337603      OnlineBackup\n",
      "8     2.557332  DeviceProtection\n",
      "9     2.359245       TechSupport\n",
      "10    2.932755       StreamingTV\n",
      "11    2.867116          Contract\n",
      "12    2.806560  PaperlessBilling\n",
      "13    2.632510     PaymentMethod\n",
      "14    7.469525    MonthlyCharges\n"
     ]
    }
   ],
   "source": [
    "valcal()"
   ]
  },
  {
   "cell_type": "code",
   "execution_count": 172,
   "metadata": {},
   "outputs": [],
   "source": [
    "x.drop('StreamingTV',axis=1,inplace=True)"
   ]
  },
  {
   "cell_type": "code",
   "execution_count": 173,
   "metadata": {},
   "outputs": [
    {
     "name": "stdout",
     "output_type": "stream",
     "text": [
      "    vif factor          features\n",
      "0     1.903845            gender\n",
      "1     1.359139     SeniorCitizen\n",
      "2     2.703660           Partner\n",
      "3     1.939730        Dependents\n",
      "4     2.556774     MultipleLines\n",
      "5     2.250783   InternetService\n",
      "6     2.178027    OnlineSecurity\n",
      "7     2.337520      OnlineBackup\n",
      "8     2.513274  DeviceProtection\n",
      "9     2.350290       TechSupport\n",
      "10    2.813785          Contract\n",
      "11    2.806088  PaperlessBilling\n",
      "12    2.628753     PaymentMethod\n",
      "13    6.649849    MonthlyCharges\n"
     ]
    }
   ],
   "source": [
    "valcal()"
   ]
  },
  {
   "cell_type": "markdown",
   "metadata": {},
   "source": [
    "# Standard Scaler"
   ]
  },
  {
   "cell_type": "code",
   "execution_count": 174,
   "metadata": {},
   "outputs": [],
   "source": [
    "from sklearn.preprocessing import StandardScaler"
   ]
  },
  {
   "cell_type": "code",
   "execution_count": 175,
   "metadata": {},
   "outputs": [],
   "source": [
    "std=StandardScaler()"
   ]
  },
  {
   "cell_type": "code",
   "execution_count": 176,
   "metadata": {},
   "outputs": [],
   "source": [
    "X=std.fit_transform(x)"
   ]
  },
  {
   "cell_type": "code",
   "execution_count": 177,
   "metadata": {},
   "outputs": [],
   "source": [
    "x=X"
   ]
  },
  {
   "cell_type": "markdown",
   "metadata": {},
   "source": [
    "# Random State Selection"
   ]
  },
  {
   "cell_type": "code",
   "execution_count": 178,
   "metadata": {},
   "outputs": [],
   "source": [
    "from sklearn.model_selection import train_test_split\n",
    "from sklearn.metrics import accuracy_score,f1_score,confusion_matrix,classification_report\n",
    "from sklearn.linear_model import LogisticRegression"
   ]
  },
  {
   "cell_type": "code",
   "execution_count": 179,
   "metadata": {},
   "outputs": [],
   "source": [
    "lg=LogisticRegression()"
   ]
  },
  {
   "cell_type": "code",
   "execution_count": 180,
   "metadata": {},
   "outputs": [
    {
     "name": "stdout",
     "output_type": "stream",
     "text": [
      "Random state 10 score is well\n",
      "test score 78.14052519517388\n",
      "train score 78.06176783812566\n",
      "Random state 27 score is well\n",
      "test score 78.21149751596877\n",
      "train score 78.2392616258431\n",
      "Random state 36 score is well\n",
      "test score 78.21149751596877\n",
      "train score 78.18601348952787\n",
      "Random state 54 score is well\n",
      "test score 78.14052519517388\n",
      "train score 78.13276535321265\n",
      "Random state 55 score is well\n",
      "test score 78.21149751596877\n",
      "train score 78.2392616258431\n",
      "Random state 86 score is well\n",
      "test score 78.06955287437899\n",
      "train score 78.09726659566915\n",
      "Random state 91 score is well\n",
      "test score 78.14052519517388\n",
      "train score 78.1150159744409\n",
      "Random state 142 score is well\n",
      "test score 78.28246983676365\n",
      "train score 78.29250976215832\n",
      "Random state 146 score is well\n",
      "test score 78.35344215755855\n",
      "train score 78.43450479233228\n",
      "Random state 165 score is well\n",
      "test score 78.21149751596877\n",
      "train score 78.18601348952787\n",
      "Random state 167 score is well\n",
      "test score 78.21149751596877\n",
      "train score 78.2392616258431\n",
      "Random state 215 score is well\n",
      "test score 78.42441447835344\n",
      "train score 78.38125665601704\n",
      "Random state 414 score is well\n",
      "test score 77.9985805535841\n",
      "train score 78.02626908058218\n",
      "Random state 440 score is well\n",
      "test score 78.42441447835344\n",
      "train score 78.39900603478878\n",
      "Random state 483 score is well\n",
      "test score 78.14052519517388\n",
      "train score 78.09726659566915\n"
     ]
    }
   ],
   "source": [
    "for i in range(1,500):\n",
    "    x_train,x_test,y_train,y_test=train_test_split(x,y,test_size=0.20,random_state=i)\n",
    "    lg.fit(x_train,y_train)\n",
    "    pred_test=lg.predict(x_test)\n",
    "    pred_train=lg.predict(x_train)\n",
    "    if round(accuracy_score(y_test,pred_test)*100,1)==round(accuracy_score(y_train,pred_train)*100,1):\n",
    "        print('Random state',i,'score is well')\n",
    "        print('test score',accuracy_score(y_test,pred_test)*100)\n",
    "        print('train score',accuracy_score(y_train,pred_train)*100)"
   ]
  },
  {
   "cell_type": "code",
   "execution_count": 181,
   "metadata": {},
   "outputs": [],
   "source": [
    "x_train,x_test,y_train,y_test=train_test_split(x,y,test_size=0.20,random_state=10)"
   ]
  },
  {
   "cell_type": "code",
   "execution_count": 182,
   "metadata": {},
   "outputs": [
    {
     "data": {
      "text/plain": [
       "0    4108\n",
       "1    1526\n",
       "Name: Churn, dtype: int64"
      ]
     },
     "execution_count": 182,
     "metadata": {},
     "output_type": "execute_result"
    }
   ],
   "source": [
    "y_train.value_counts()"
   ]
  },
  {
   "cell_type": "markdown",
   "metadata": {},
   "source": [
    "# SMOTE"
   ]
  },
  {
   "cell_type": "code",
   "execution_count": 183,
   "metadata": {},
   "outputs": [],
   "source": [
    "from imblearn.over_sampling import SMOTE"
   ]
  },
  {
   "cell_type": "code",
   "execution_count": 184,
   "metadata": {},
   "outputs": [],
   "source": [
    "smt=SMOTE()\n",
    "trainx,trainy=smt.fit_resample(x_train,y_train)"
   ]
  },
  {
   "cell_type": "code",
   "execution_count": 185,
   "metadata": {},
   "outputs": [],
   "source": [
    "from sklearn.svm import SVC\n",
    "from sklearn.naive_bayes import GaussianNB\n",
    "from sklearn.tree import DecisionTreeClassifier\n",
    "from sklearn.neighbors import KNeighborsClassifier\n",
    "from sklearn.model_selection import GridSearchCV"
   ]
  },
  {
   "cell_type": "code",
   "execution_count": 186,
   "metadata": {},
   "outputs": [],
   "source": [
    "svc=SVC()\n",
    "svcl=SVC(kernel='linear')\n",
    "svcp=SVC(kernel='poly')\n",
    "dtc=DecisionTreeClassifier()\n",
    "knn=KNeighborsClassifier()\n",
    "gb=GaussianNB()\n",
    "svcs=SVC(kernel='sigmoid')"
   ]
  },
  {
   "cell_type": "code",
   "execution_count": 187,
   "metadata": {},
   "outputs": [],
   "source": [
    "def fun(f):\n",
    "    f.fit(trainx,trainy)\n",
    "    pred=f.predict(x_test)\n",
    "    print('Accuracy Score',accuracy_score(y_test,pred)*100)\n",
    "    print('Confusion Matrix\\n',confusion_matrix(y_test,pred))\n",
    "    print('Classification Report\\n',classification_report(y_test,pred))\n",
    "    print('F1 score',f1_score(y_test,pred)*100)"
   ]
  },
  {
   "cell_type": "code",
   "execution_count": 188,
   "metadata": {},
   "outputs": [
    {
     "name": "stdout",
     "output_type": "stream",
     "text": [
      "Accuracy Score 72.39176721078779\n",
      "Confusion Matrix\n",
      " [[757 309]\n",
      " [ 80 263]]\n",
      "Classification Report\n",
      "               precision    recall  f1-score   support\n",
      "\n",
      "           0       0.90      0.71      0.80      1066\n",
      "           1       0.46      0.77      0.57       343\n",
      "\n",
      "    accuracy                           0.72      1409\n",
      "   macro avg       0.68      0.74      0.69      1409\n",
      "weighted avg       0.80      0.72      0.74      1409\n",
      "\n",
      "F1 score 57.486338797814206\n"
     ]
    }
   ],
   "source": [
    "fun(lg)"
   ]
  },
  {
   "cell_type": "code",
   "execution_count": 189,
   "metadata": {},
   "outputs": [
    {
     "name": "stdout",
     "output_type": "stream",
     "text": [
      "Accuracy Score 66.28814762242725\n",
      "Confusion Matrix\n",
      " [[716 350]\n",
      " [125 218]]\n",
      "Classification Report\n",
      "               precision    recall  f1-score   support\n",
      "\n",
      "           0       0.85      0.67      0.75      1066\n",
      "           1       0.38      0.64      0.48       343\n",
      "\n",
      "    accuracy                           0.66      1409\n",
      "   macro avg       0.62      0.65      0.61      1409\n",
      "weighted avg       0.74      0.66      0.68      1409\n",
      "\n",
      "F1 score 47.85949506037322\n"
     ]
    }
   ],
   "source": [
    "fun(svcs)"
   ]
  },
  {
   "cell_type": "code",
   "execution_count": 190,
   "metadata": {},
   "outputs": [
    {
     "name": "stdout",
     "output_type": "stream",
     "text": [
      "Accuracy Score 69.26898509581262\n",
      "Confusion Matrix\n",
      " [[703 363]\n",
      " [ 70 273]]\n",
      "Classification Report\n",
      "               precision    recall  f1-score   support\n",
      "\n",
      "           0       0.91      0.66      0.76      1066\n",
      "           1       0.43      0.80      0.56       343\n",
      "\n",
      "    accuracy                           0.69      1409\n",
      "   macro avg       0.67      0.73      0.66      1409\n",
      "weighted avg       0.79      0.69      0.71      1409\n",
      "\n",
      "F1 score 55.77119509703778\n"
     ]
    }
   ],
   "source": [
    "fun(svcl)"
   ]
  },
  {
   "cell_type": "code",
   "execution_count": 191,
   "metadata": {},
   "outputs": [
    {
     "name": "stdout",
     "output_type": "stream",
     "text": [
      "Accuracy Score 70.9013484740951\n",
      "Confusion Matrix\n",
      " [[751 315]\n",
      " [ 95 248]]\n",
      "Classification Report\n",
      "               precision    recall  f1-score   support\n",
      "\n",
      "           0       0.89      0.70      0.79      1066\n",
      "           1       0.44      0.72      0.55       343\n",
      "\n",
      "    accuracy                           0.71      1409\n",
      "   macro avg       0.66      0.71      0.67      1409\n",
      "weighted avg       0.78      0.71      0.73      1409\n",
      "\n",
      "F1 score 54.746136865342166\n"
     ]
    }
   ],
   "source": [
    "fun(svcp)"
   ]
  },
  {
   "cell_type": "code",
   "execution_count": 192,
   "metadata": {},
   "outputs": [
    {
     "name": "stdout",
     "output_type": "stream",
     "text": [
      "Accuracy Score 73.17246273953158\n",
      "Confusion Matrix\n",
      " [[783 283]\n",
      " [ 95 248]]\n",
      "Classification Report\n",
      "               precision    recall  f1-score   support\n",
      "\n",
      "           0       0.89      0.73      0.81      1066\n",
      "           1       0.47      0.72      0.57       343\n",
      "\n",
      "    accuracy                           0.73      1409\n",
      "   macro avg       0.68      0.73      0.69      1409\n",
      "weighted avg       0.79      0.73      0.75      1409\n",
      "\n",
      "F1 score 56.75057208237986\n"
     ]
    }
   ],
   "source": [
    "fun(svc)"
   ]
  },
  {
   "cell_type": "code",
   "execution_count": 193,
   "metadata": {},
   "outputs": [
    {
     "name": "stdout",
     "output_type": "stream",
     "text": [
      "Accuracy Score 71.11426543647977\n",
      "Confusion Matrix\n",
      " [[816 250]\n",
      " [157 186]]\n",
      "Classification Report\n",
      "               precision    recall  f1-score   support\n",
      "\n",
      "           0       0.84      0.77      0.80      1066\n",
      "           1       0.43      0.54      0.48       343\n",
      "\n",
      "    accuracy                           0.71      1409\n",
      "   macro avg       0.63      0.65      0.64      1409\n",
      "weighted avg       0.74      0.71      0.72      1409\n",
      "\n",
      "F1 score 47.75353016688062\n"
     ]
    }
   ],
   "source": [
    "fun(dtc)"
   ]
  },
  {
   "cell_type": "code",
   "execution_count": 194,
   "metadata": {},
   "outputs": [
    {
     "name": "stdout",
     "output_type": "stream",
     "text": [
      "Accuracy Score 67.63662171753016\n",
      "Confusion Matrix\n",
      " [[732 334]\n",
      " [122 221]]\n",
      "Classification Report\n",
      "               precision    recall  f1-score   support\n",
      "\n",
      "           0       0.86      0.69      0.76      1066\n",
      "           1       0.40      0.64      0.49       343\n",
      "\n",
      "    accuracy                           0.68      1409\n",
      "   macro avg       0.63      0.67      0.63      1409\n",
      "weighted avg       0.75      0.68      0.70      1409\n",
      "\n",
      "F1 score 49.220489977728285\n"
     ]
    }
   ],
   "source": [
    "fun(knn)"
   ]
  },
  {
   "cell_type": "code",
   "execution_count": 195,
   "metadata": {},
   "outputs": [
    {
     "name": "stdout",
     "output_type": "stream",
     "text": [
      "Accuracy Score 71.82398864442867\n",
      "Confusion Matrix\n",
      " [[756 310]\n",
      " [ 87 256]]\n",
      "Classification Report\n",
      "               precision    recall  f1-score   support\n",
      "\n",
      "           0       0.90      0.71      0.79      1066\n",
      "           1       0.45      0.75      0.56       343\n",
      "\n",
      "    accuracy                           0.72      1409\n",
      "   macro avg       0.67      0.73      0.68      1409\n",
      "weighted avg       0.79      0.72      0.74      1409\n",
      "\n",
      "F1 score 56.32563256325632\n"
     ]
    }
   ],
   "source": [
    "fun(gb)"
   ]
  },
  {
   "cell_type": "markdown",
   "metadata": {},
   "source": [
    "# Ensemble Method"
   ]
  },
  {
   "cell_type": "code",
   "execution_count": 196,
   "metadata": {},
   "outputs": [],
   "source": [
    "from sklearn.ensemble import RandomForestClassifier,AdaBoostClassifier,GradientBoostingClassifier\n",
    "from xgboost import XGBClassifier\n",
    "from sklearn.linear_model import SGDClassifier\n",
    "from xgboost import XGBRFClassifier"
   ]
  },
  {
   "cell_type": "code",
   "execution_count": 197,
   "metadata": {},
   "outputs": [],
   "source": [
    "rfc=RandomForestClassifier()\n",
    "ad=AdaBoostClassifier()\n",
    "gd=GradientBoostingClassifier()\n",
    "xgb=XGBClassifier()\n",
    "sgd=SGDClassifier()\n",
    "xgbr=XGBRFClassifier()"
   ]
  },
  {
   "cell_type": "code",
   "execution_count": 198,
   "metadata": {},
   "outputs": [
    {
     "name": "stdout",
     "output_type": "stream",
     "text": [
      "Accuracy Score 75.58552164655784\n",
      "Confusion Matrix\n",
      " [[892 174]\n",
      " [170 173]]\n",
      "Classification Report\n",
      "               precision    recall  f1-score   support\n",
      "\n",
      "           0       0.84      0.84      0.84      1066\n",
      "           1       0.50      0.50      0.50       343\n",
      "\n",
      "    accuracy                           0.76      1409\n",
      "   macro avg       0.67      0.67      0.67      1409\n",
      "weighted avg       0.76      0.76      0.76      1409\n",
      "\n",
      "F1 score 50.14492753623189\n"
     ]
    }
   ],
   "source": [
    "fun(rfc)"
   ]
  },
  {
   "cell_type": "code",
   "execution_count": 199,
   "metadata": {},
   "outputs": [
    {
     "name": "stdout",
     "output_type": "stream",
     "text": [
      "Accuracy Score 74.30801987224982\n",
      "Confusion Matrix\n",
      " [[798 268]\n",
      " [ 94 249]]\n",
      "Classification Report\n",
      "               precision    recall  f1-score   support\n",
      "\n",
      "           0       0.89      0.75      0.82      1066\n",
      "           1       0.48      0.73      0.58       343\n",
      "\n",
      "    accuracy                           0.74      1409\n",
      "   macro avg       0.69      0.74      0.70      1409\n",
      "weighted avg       0.79      0.74      0.76      1409\n",
      "\n",
      "F1 score 57.90697674418603\n"
     ]
    }
   ],
   "source": [
    "fun(ad)"
   ]
  },
  {
   "cell_type": "code",
   "execution_count": 200,
   "metadata": {},
   "outputs": [
    {
     "name": "stdout",
     "output_type": "stream",
     "text": [
      "Accuracy Score 76.36621717530163\n",
      "Confusion Matrix\n",
      " [[848 218]\n",
      " [115 228]]\n",
      "Classification Report\n",
      "               precision    recall  f1-score   support\n",
      "\n",
      "           0       0.88      0.80      0.84      1066\n",
      "           1       0.51      0.66      0.58       343\n",
      "\n",
      "    accuracy                           0.76      1409\n",
      "   macro avg       0.70      0.73      0.71      1409\n",
      "weighted avg       0.79      0.76      0.77      1409\n",
      "\n",
      "F1 score 57.79467680608366\n"
     ]
    }
   ],
   "source": [
    "fun(gd)"
   ]
  },
  {
   "cell_type": "code",
   "execution_count": 201,
   "metadata": {},
   "outputs": [
    {
     "name": "stdout",
     "output_type": "stream",
     "text": [
      "[15:12:06] WARNING: C:/Users/Administrator/workspace/xgboost-win64_release_1.4.0/src/learner.cc:1095: Starting in XGBoost 1.3.0, the default evaluation metric used with the objective 'binary:logistic' was changed from 'error' to 'logloss'. Explicitly set eval_metric if you'd like to restore the old behavior.\n",
      "Accuracy Score 76.65010645848119\n",
      "Confusion Matrix\n",
      " [[882 184]\n",
      " [145 198]]\n",
      "Classification Report\n",
      "               precision    recall  f1-score   support\n",
      "\n",
      "           0       0.86      0.83      0.84      1066\n",
      "           1       0.52      0.58      0.55       343\n",
      "\n",
      "    accuracy                           0.77      1409\n",
      "   macro avg       0.69      0.70      0.69      1409\n",
      "weighted avg       0.78      0.77      0.77      1409\n",
      "\n",
      "F1 score 54.62068965517243\n"
     ]
    }
   ],
   "source": [
    "fun(xgb)"
   ]
  },
  {
   "cell_type": "code",
   "execution_count": 202,
   "metadata": {},
   "outputs": [
    {
     "name": "stdout",
     "output_type": "stream",
     "text": [
      "[15:12:08] WARNING: C:/Users/Administrator/workspace/xgboost-win64_release_1.4.0/src/learner.cc:1095: Starting in XGBoost 1.3.0, the default evaluation metric used with the objective 'binary:logistic' was changed from 'error' to 'logloss'. Explicitly set eval_metric if you'd like to restore the old behavior.\n",
      "Accuracy Score 74.16607523066004\n",
      "Confusion Matrix\n",
      " [[812 254]\n",
      " [110 233]]\n",
      "Classification Report\n",
      "               precision    recall  f1-score   support\n",
      "\n",
      "           0       0.88      0.76      0.82      1066\n",
      "           1       0.48      0.68      0.56       343\n",
      "\n",
      "    accuracy                           0.74      1409\n",
      "   macro avg       0.68      0.72      0.69      1409\n",
      "weighted avg       0.78      0.74      0.75      1409\n",
      "\n",
      "F1 score 56.144578313253\n"
     ]
    }
   ],
   "source": [
    "fun(xgbr)"
   ]
  },
  {
   "cell_type": "code",
   "execution_count": 203,
   "metadata": {},
   "outputs": [
    {
     "name": "stdout",
     "output_type": "stream",
     "text": [
      "Accuracy Score 70.40454222853087\n",
      "Confusion Matrix\n",
      " [[730 336]\n",
      " [ 81 262]]\n",
      "Classification Report\n",
      "               precision    recall  f1-score   support\n",
      "\n",
      "           0       0.90      0.68      0.78      1066\n",
      "           1       0.44      0.76      0.56       343\n",
      "\n",
      "    accuracy                           0.70      1409\n",
      "   macro avg       0.67      0.72      0.67      1409\n",
      "weighted avg       0.79      0.70      0.72      1409\n",
      "\n",
      "F1 score 55.685441020191284\n"
     ]
    }
   ],
   "source": [
    "fun(sgd)"
   ]
  },
  {
   "cell_type": "markdown",
   "metadata": {},
   "source": [
    "# Hyper Tuning For Best Score"
   ]
  },
  {
   "cell_type": "code",
   "execution_count": 204,
   "metadata": {},
   "outputs": [],
   "source": [
    "from sklearn.model_selection import GridSearchCV"
   ]
  },
  {
   "cell_type": "markdown",
   "metadata": {},
   "source": [
    "Support Vector Classifier"
   ]
  },
  {
   "cell_type": "code",
   "execution_count": 205,
   "metadata": {},
   "outputs": [],
   "source": [
    "p2=[{'kernel':['linear','poly','sigmoid'],'gamma':['auto','scale'],'max_iter':[1,2,3,4],'C':[0.01,0.1,0.0001,1,2,3,50,100],'class_weight':['dict','balanced']}]"
   ]
  },
  {
   "cell_type": "code",
   "execution_count": 94,
   "metadata": {},
   "outputs": [
    {
     "name": "stdout",
     "output_type": "stream",
     "text": [
      "{'C': 2, 'class_weight': 'balanced', 'gamma': 'auto', 'kernel': 'linear', 'max_iter': 3}\n"
     ]
    }
   ],
   "source": [
    "gd1=GridSearchCV(svc,p2)\n",
    "gd1.fit(trainx,trainy)\n",
    "print(gd1.best_params_)"
   ]
  },
  {
   "cell_type": "code",
   "execution_count": 206,
   "metadata": {},
   "outputs": [],
   "source": [
    "svc1=SVC(kernel='poly',C=0.1,gamma='scale',probability=True)"
   ]
  },
  {
   "cell_type": "code",
   "execution_count": 115,
   "metadata": {},
   "outputs": [
    {
     "name": "stdout",
     "output_type": "stream",
     "text": [
      "Accuracy Score 69.26898509581262\n",
      "Confusion Matrix\n",
      " [[703 363]\n",
      " [ 70 273]]\n",
      "Classification Report\n",
      "               precision    recall  f1-score   support\n",
      "\n",
      "           0       0.91      0.66      0.76      1066\n",
      "           1       0.43      0.80      0.56       343\n",
      "\n",
      "    accuracy                           0.69      1409\n",
      "   macro avg       0.67      0.73      0.66      1409\n",
      "weighted avg       0.79      0.69      0.71      1409\n",
      "\n",
      "F1 score 55.77119509703778\n"
     ]
    }
   ],
   "source": [
    "fun(svc1)"
   ]
  },
  {
   "cell_type": "markdown",
   "metadata": {},
   "source": [
    "Ada Boosting Classifier"
   ]
  },
  {
   "cell_type": "code",
   "execution_count": 123,
   "metadata": {},
   "outputs": [],
   "source": [
    "p1={'n_estimators':[100,150,250,500],'learning_rate':[0.1,0.01,0.001],'random_state':[13,61,100]}"
   ]
  },
  {
   "cell_type": "code",
   "execution_count": 124,
   "metadata": {},
   "outputs": [
    {
     "name": "stdout",
     "output_type": "stream",
     "text": [
      "{'learning_rate': 0.1, 'n_estimators': 500, 'random_state': 13}\n"
     ]
    }
   ],
   "source": [
    "gd1=GridSearchCV(ad,p1)\n",
    "gd1.fit(trainx,trainy)\n",
    "print(gd1.best_params_)"
   ]
  },
  {
   "cell_type": "code",
   "execution_count": 125,
   "metadata": {},
   "outputs": [],
   "source": [
    "ad1=AdaBoostClassifier(learning_rate=0.1,n_estimators=500,random_state=13)"
   ]
  },
  {
   "cell_type": "code",
   "execution_count": 126,
   "metadata": {},
   "outputs": [
    {
     "name": "stdout",
     "output_type": "stream",
     "text": [
      "Accuracy Score 76.5081618168914\n",
      "Confusion Matrix\n",
      " [[785 254]\n",
      " [ 77 293]]\n",
      "Classification Report\n",
      "               precision    recall  f1-score   support\n",
      "\n",
      "           0       0.91      0.76      0.83      1039\n",
      "           1       0.54      0.79      0.64       370\n",
      "\n",
      "    accuracy                           0.77      1409\n",
      "   macro avg       0.72      0.77      0.73      1409\n",
      "weighted avg       0.81      0.77      0.78      1409\n",
      "\n",
      "F1 score 63.904034896401306\n"
     ]
    }
   ],
   "source": [
    "fun(ad1)"
   ]
  },
  {
   "cell_type": "markdown",
   "metadata": {},
   "source": [
    "# Cross Validation"
   ]
  },
  {
   "cell_type": "code",
   "execution_count": 84,
   "metadata": {},
   "outputs": [],
   "source": [
    "from sklearn.model_selection import cross_val_score"
   ]
  },
  {
   "cell_type": "code",
   "execution_count": 85,
   "metadata": {},
   "outputs": [
    {
     "name": "stdout",
     "output_type": "stream",
     "text": [
      "score at cv= 2 79.71032132424538\n",
      "score at cv= 3 81.03778418008311\n",
      "score at cv= 4 81.87682570593964\n",
      "score at cv= 5 81.65917340098005\n",
      "score at cv= 6 82.02572961598412\n",
      "score at cv= 7 82.46258135874155\n",
      "score at cv= 8 82.70447906523856\n",
      "score at cv= 9 82.85134157042843\n",
      "score at cv= 10 82.64689669888065\n"
     ]
    }
   ],
   "source": [
    "for i in range(2,11):\n",
    "    score=cross_val_score(svc1,trainx,trainy,cv=i)\n",
    "    print(\"score at cv=\",i,score.mean()*100)"
   ]
  },
  {
   "cell_type": "markdown",
   "metadata": {},
   "source": [
    "# AUR ROC CURVE"
   ]
  },
  {
   "cell_type": "code",
   "execution_count": 208,
   "metadata": {},
   "outputs": [],
   "source": [
    "from sklearn.metrics import roc_curve,roc_auc_score"
   ]
  },
  {
   "cell_type": "code",
   "execution_count": 209,
   "metadata": {},
   "outputs": [],
   "source": [
    "y_pred_prob=svc1.predict_proba(x_test)[:,1]"
   ]
  },
  {
   "cell_type": "code",
   "execution_count": 210,
   "metadata": {},
   "outputs": [
    {
     "name": "stdout",
     "output_type": "stream",
     "text": [
      "ROC Score 0.7290024559810523\n"
     ]
    }
   ],
   "source": [
    "fpr,tpr,thersholds=roc_curve(y_test,y_pred_prob)\n",
    "print('ROC Score',roc_auc_score(y_test,svc1.predict(x_test)))"
   ]
  },
  {
   "cell_type": "code",
   "execution_count": 211,
   "metadata": {},
   "outputs": [
    {
     "data": {
      "image/png": "[encoded data removed]",
      "text/plain": [
       "<Figure size 432x288 with 1 Axes>"
      ]
     },
     "metadata": {
      "needs_background": "light"
     },
     "output_type": "display_data"
    }
   ],
   "source": [
    "plt.plot(fpr,tpr)\n",
    "plt.xlabel('False Positive Rate',fontsize=14)\n",
    "plt.ylabel('True Positive Rate',fontsize=14)\n",
    "plt.title('Support Vector Classifier',fontdict={'fontweight':'bold','fontsize':20})\n",
    "plt.show()"
   ]
  },
  {
   "cell_type": "markdown",
   "metadata": {},
   "source": [
    "# In This Case 1 For Churn and 0 For Not Churn"
   ]
  },
  {
   "cell_type": "markdown",
   "metadata": {},
   "source": [
    "# So We Get 80% Recall It Means Model Find 80% Churn Customes & Its Predicted Correctly."
   ]
  },
  {
   "cell_type": "markdown",
   "metadata": {},
   "source": [
    "# Saving Model"
   ]
  },
  {
   "cell_type": "code",
   "execution_count": 212,
   "metadata": {},
   "outputs": [],
   "source": [
    "import pickle\n",
    "filename='Customer_Churn_Prediction.pkl'\n",
    "pickle.dump(svc1,open(filename,'wb'))"
   ]
  },
  {
   "cell_type": "markdown",
   "metadata": {},
   "source": [
    "# Conclusion"
   ]
  },
  {
   "cell_type": "code",
   "execution_count": 213,
   "metadata": {},
   "outputs": [
    {
     "name": "stdout",
     "output_type": "stream",
     "text": [
      "      Actual  Predict\n",
      "6418       0        0\n",
      "1948       1        1\n",
      "4497       0        0\n",
      "66         0        1\n",
      "1705       0        1\n",
      "...      ...      ...\n",
      "1901       0        0\n",
      "5938       0        1\n",
      "6373       0        1\n",
      "1767       0        0\n",
      "2184       1        1\n",
      "\n",
      "[1409 rows x 2 columns]\n"
     ]
    }
   ],
   "source": [
    "res=pd.DataFrame()\n",
    "res['Actual']=y_test\n",
    "res['Predict']=svc1.predict(x_test)\n",
    "\n",
    "print(res)"
   ]
  },
  {
   "cell_type": "markdown",
   "metadata": {},
   "source": [
    "# Summary:\n",
    "1)The model will catch 80 of the customers who will actually churn.\n",
    "\n",
    "2)The model will catch 66% of the customers who will actually Not churn.\n",
    "\n",
    "3)Overall all accuracy is 76%\n"
   ]
  },
  {
   "cell_type": "code",
   "execution_count": null,
   "metadata": {},
   "outputs": [],
   "source": []
  }
 ],
 "metadata": {
  "kernelspec": {
   "display_name": "Python 3",
   "language": "python",
   "name": "python3"
  },
  "language_info": {
   "codemirror_mode": {
    "name": "ipython",
    "version": 3
   },
   "file_extension": ".py",
   "mimetype": "text/x-python",
   "name": "python",
   "nbconvert_exporter": "python",
   "pygments_lexer": "ipython3",
   "version": "3.8.5"
  }
 },
 "nbformat": 4,
 "nbformat_minor": 4
}
